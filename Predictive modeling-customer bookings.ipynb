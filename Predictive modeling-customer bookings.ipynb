{
 "cells": [
  {
   "cell_type": "markdown",
   "metadata": {},
   "source": [
    "# Task 2 - Predictive modeling of customer bookings"
   ]
  },
  {
   "cell_type": "code",
   "execution_count": 1,
   "metadata": {},
   "outputs": [],
   "source": [
    "# Standard Libraries\n",
    "import pandas as pd\n",
    "import numpy as np\n",
    "import os\n",
    "\n",
    "# For visualizations\n",
    "import matplotlib.pyplot as plt\n",
    "%matplotlib inline\n",
    "import seaborn as sns\n",
    "\n",
    "# Data-Prep\n",
    "from sklearn.preprocessing import StandardScaler\n",
    "from imblearn.over_sampling import SMOTE\n",
    "\n",
    "# Model Buidling and metrics \n",
    "from sklearn.model_selection import train_test_split\n",
    "from sklearn.ensemble import RandomForestClassifier\n",
    "from sklearn.metrics import confusion_matrix , classification_report , accuracy_score\n",
    "from sklearn.model_selection import cross_val_score\n"
   ]
  },
  {
   "cell_type": "markdown",
   "metadata": {},
   "source": [
    "# 1.Loading the dataset"
   ]
  },
  {
   "cell_type": "code",
   "execution_count": 2,
   "metadata": {},
   "outputs": [
    {
     "data": {
      "text/html": [
       "<div>\n",
       "<style scoped>\n",
       "    .dataframe tbody tr th:only-of-type {\n",
       "        vertical-align: middle;\n",
       "    }\n",
       "\n",
       "    .dataframe tbody tr th {\n",
       "        vertical-align: top;\n",
       "    }\n",
       "\n",
       "    .dataframe thead th {\n",
       "        text-align: right;\n",
       "    }\n",
       "</style>\n",
       "<table border=\"1\" class=\"dataframe\">\n",
       "  <thead>\n",
       "    <tr style=\"text-align: right;\">\n",
       "      <th></th>\n",
       "      <th>num_passengers</th>\n",
       "      <th>sales_channel</th>\n",
       "      <th>trip_type</th>\n",
       "      <th>purchase_lead</th>\n",
       "      <th>length_of_stay</th>\n",
       "      <th>flight_hour</th>\n",
       "      <th>flight_day</th>\n",
       "      <th>route</th>\n",
       "      <th>booking_origin</th>\n",
       "      <th>wants_extra_baggage</th>\n",
       "      <th>wants_preferred_seat</th>\n",
       "      <th>wants_in_flight_meals</th>\n",
       "      <th>flight_duration</th>\n",
       "      <th>booking_complete</th>\n",
       "    </tr>\n",
       "  </thead>\n",
       "  <tbody>\n",
       "    <tr>\n",
       "      <th>0</th>\n",
       "      <td>2</td>\n",
       "      <td>Internet</td>\n",
       "      <td>RoundTrip</td>\n",
       "      <td>262</td>\n",
       "      <td>19</td>\n",
       "      <td>7</td>\n",
       "      <td>Sat</td>\n",
       "      <td>AKLDEL</td>\n",
       "      <td>New Zealand</td>\n",
       "      <td>1</td>\n",
       "      <td>0</td>\n",
       "      <td>0</td>\n",
       "      <td>5.52</td>\n",
       "      <td>0</td>\n",
       "    </tr>\n",
       "    <tr>\n",
       "      <th>1</th>\n",
       "      <td>1</td>\n",
       "      <td>Internet</td>\n",
       "      <td>RoundTrip</td>\n",
       "      <td>112</td>\n",
       "      <td>20</td>\n",
       "      <td>3</td>\n",
       "      <td>Sat</td>\n",
       "      <td>AKLDEL</td>\n",
       "      <td>New Zealand</td>\n",
       "      <td>0</td>\n",
       "      <td>0</td>\n",
       "      <td>0</td>\n",
       "      <td>5.52</td>\n",
       "      <td>0</td>\n",
       "    </tr>\n",
       "    <tr>\n",
       "      <th>2</th>\n",
       "      <td>2</td>\n",
       "      <td>Internet</td>\n",
       "      <td>RoundTrip</td>\n",
       "      <td>243</td>\n",
       "      <td>22</td>\n",
       "      <td>17</td>\n",
       "      <td>Wed</td>\n",
       "      <td>AKLDEL</td>\n",
       "      <td>India</td>\n",
       "      <td>1</td>\n",
       "      <td>1</td>\n",
       "      <td>0</td>\n",
       "      <td>5.52</td>\n",
       "      <td>0</td>\n",
       "    </tr>\n",
       "    <tr>\n",
       "      <th>3</th>\n",
       "      <td>1</td>\n",
       "      <td>Internet</td>\n",
       "      <td>RoundTrip</td>\n",
       "      <td>96</td>\n",
       "      <td>31</td>\n",
       "      <td>4</td>\n",
       "      <td>Sat</td>\n",
       "      <td>AKLDEL</td>\n",
       "      <td>New Zealand</td>\n",
       "      <td>0</td>\n",
       "      <td>0</td>\n",
       "      <td>1</td>\n",
       "      <td>5.52</td>\n",
       "      <td>0</td>\n",
       "    </tr>\n",
       "    <tr>\n",
       "      <th>4</th>\n",
       "      <td>2</td>\n",
       "      <td>Internet</td>\n",
       "      <td>RoundTrip</td>\n",
       "      <td>68</td>\n",
       "      <td>22</td>\n",
       "      <td>15</td>\n",
       "      <td>Wed</td>\n",
       "      <td>AKLDEL</td>\n",
       "      <td>India</td>\n",
       "      <td>1</td>\n",
       "      <td>0</td>\n",
       "      <td>1</td>\n",
       "      <td>5.52</td>\n",
       "      <td>0</td>\n",
       "    </tr>\n",
       "  </tbody>\n",
       "</table>\n",
       "</div>"
      ],
      "text/plain": [
       "   num_passengers sales_channel  trip_type  purchase_lead  length_of_stay  \\\n",
       "0               2      Internet  RoundTrip            262              19   \n",
       "1               1      Internet  RoundTrip            112              20   \n",
       "2               2      Internet  RoundTrip            243              22   \n",
       "3               1      Internet  RoundTrip             96              31   \n",
       "4               2      Internet  RoundTrip             68              22   \n",
       "\n",
       "   flight_hour flight_day   route booking_origin  wants_extra_baggage  \\\n",
       "0            7        Sat  AKLDEL    New Zealand                    1   \n",
       "1            3        Sat  AKLDEL    New Zealand                    0   \n",
       "2           17        Wed  AKLDEL          India                    1   \n",
       "3            4        Sat  AKLDEL    New Zealand                    0   \n",
       "4           15        Wed  AKLDEL          India                    1   \n",
       "\n",
       "   wants_preferred_seat  wants_in_flight_meals  flight_duration  \\\n",
       "0                     0                      0             5.52   \n",
       "1                     0                      0             5.52   \n",
       "2                     1                      0             5.52   \n",
       "3                     0                      1             5.52   \n",
       "4                     0                      1             5.52   \n",
       "\n",
       "   booking_complete  \n",
       "0                 0  \n",
       "1                 0  \n",
       "2                 0  \n",
       "3                 0  \n",
       "4                 0  "
      ]
     },
     "execution_count": 2,
     "metadata": {},
     "output_type": "execute_result"
    }
   ],
   "source": [
    "data = pd.read_csv(\"data/customer_booking.csv\")\n",
    "data.head()"
   ]
  },
  {
   "cell_type": "markdown",
   "metadata": {},
   "source": [
    "To provide more context, below is a more detailed data description, explaining exactly what each column means:\n",
    "\n",
    "- `num_passengers` = number of passengers travelling\n",
    "- `sales_channel` = sales channel booking was made on\n",
    "- `trip_type` = trip Type (Round Trip, One Way, Circle Trip)\n",
    "- `purchase_lead` = number of days between travel date and booking date\n",
    "- `length_of_stay` = number of days spent at destination\n",
    "- `flight_hour` = hour of flight departure\n",
    "- `flight_day` = day of week of flight departure\n",
    "- `route` = origin -> destination flight route\n",
    "- `booking_origin` = country from where booking was made\n",
    "- `wants_extra_baggage` = if the customer wanted extra baggage in the booking\n",
    "- `wants_preferred_seat` = if the customer wanted a preferred seat in the booking\n",
    "- `wants_in_flight_meals` = if the customer wanted in-flight meals in the booking\n",
    "- `flight_duration` = total duration of flight (in hours)\n",
    "- `booking_complete` = flag indicating if the customer completed the booking\n",
    "\n",
    "Before we compute any statistics on the data, lets do any necessary data conversion"
   ]
  },
  {
   "cell_type": "code",
   "execution_count": 3,
   "metadata": {},
   "outputs": [
    {
     "name": "stdout",
     "output_type": "stream",
     "text": [
      "<class 'pandas.core.frame.DataFrame'>\n",
      "RangeIndex: 50000 entries, 0 to 49999\n",
      "Data columns (total 14 columns):\n",
      " #   Column                 Non-Null Count  Dtype  \n",
      "---  ------                 --------------  -----  \n",
      " 0   num_passengers         50000 non-null  int64  \n",
      " 1   sales_channel          50000 non-null  object \n",
      " 2   trip_type              50000 non-null  object \n",
      " 3   purchase_lead          50000 non-null  int64  \n",
      " 4   length_of_stay         50000 non-null  int64  \n",
      " 5   flight_hour            50000 non-null  int64  \n",
      " 6   flight_day             50000 non-null  object \n",
      " 7   route                  50000 non-null  object \n",
      " 8   booking_origin         50000 non-null  object \n",
      " 9   wants_extra_baggage    50000 non-null  int64  \n",
      " 10  wants_preferred_seat   50000 non-null  int64  \n",
      " 11  wants_in_flight_meals  50000 non-null  int64  \n",
      " 12  flight_duration        50000 non-null  float64\n",
      " 13  booking_complete       50000 non-null  int64  \n",
      "dtypes: float64(1), int64(8), object(5)\n",
      "memory usage: 5.3+ MB\n"
     ]
    }
   ],
   "source": [
    "data.info()"
   ]
  },
  {
   "cell_type": "markdown",
   "metadata": {},
   "source": [
    "# 2.Data-preprocessing"
   ]
  },
  {
   "cell_type": "markdown",
   "metadata": {},
   "source": [
    "## 2.1.Checking for null values"
   ]
  },
  {
   "cell_type": "code",
   "execution_count": 4,
   "metadata": {},
   "outputs": [
    {
     "data": {
      "text/plain": [
       "num_passengers           0\n",
       "sales_channel            0\n",
       "trip_type                0\n",
       "purchase_lead            0\n",
       "length_of_stay           0\n",
       "flight_hour              0\n",
       "flight_day               0\n",
       "route                    0\n",
       "booking_origin           0\n",
       "wants_extra_baggage      0\n",
       "wants_preferred_seat     0\n",
       "wants_in_flight_meals    0\n",
       "flight_duration          0\n",
       "booking_complete         0\n",
       "dtype: int64"
      ]
     },
     "execution_count": 4,
     "metadata": {},
     "output_type": "execute_result"
    }
   ],
   "source": [
    "data.isnull().sum()"
   ]
  },
  {
   "cell_type": "code",
   "execution_count": 5,
   "metadata": {},
   "outputs": [
    {
     "data": {
      "text/html": [
       "<div>\n",
       "<style scoped>\n",
       "    .dataframe tbody tr th:only-of-type {\n",
       "        vertical-align: middle;\n",
       "    }\n",
       "\n",
       "    .dataframe tbody tr th {\n",
       "        vertical-align: top;\n",
       "    }\n",
       "\n",
       "    .dataframe thead th {\n",
       "        text-align: right;\n",
       "    }\n",
       "</style>\n",
       "<table border=\"1\" class=\"dataframe\">\n",
       "  <thead>\n",
       "    <tr style=\"text-align: right;\">\n",
       "      <th></th>\n",
       "      <th>num_passengers</th>\n",
       "      <th>purchase_lead</th>\n",
       "      <th>length_of_stay</th>\n",
       "      <th>flight_hour</th>\n",
       "      <th>wants_extra_baggage</th>\n",
       "      <th>wants_preferred_seat</th>\n",
       "      <th>wants_in_flight_meals</th>\n",
       "      <th>flight_duration</th>\n",
       "      <th>booking_complete</th>\n",
       "    </tr>\n",
       "  </thead>\n",
       "  <tbody>\n",
       "    <tr>\n",
       "      <th>count</th>\n",
       "      <td>50000.000000</td>\n",
       "      <td>50000.000000</td>\n",
       "      <td>50000.00000</td>\n",
       "      <td>50000.00000</td>\n",
       "      <td>50000.000000</td>\n",
       "      <td>50000.000000</td>\n",
       "      <td>50000.000000</td>\n",
       "      <td>50000.000000</td>\n",
       "      <td>50000.000000</td>\n",
       "    </tr>\n",
       "    <tr>\n",
       "      <th>mean</th>\n",
       "      <td>1.591240</td>\n",
       "      <td>84.940480</td>\n",
       "      <td>23.04456</td>\n",
       "      <td>9.06634</td>\n",
       "      <td>0.668780</td>\n",
       "      <td>0.296960</td>\n",
       "      <td>0.427140</td>\n",
       "      <td>7.277561</td>\n",
       "      <td>0.149560</td>\n",
       "    </tr>\n",
       "    <tr>\n",
       "      <th>std</th>\n",
       "      <td>1.020165</td>\n",
       "      <td>90.451378</td>\n",
       "      <td>33.88767</td>\n",
       "      <td>5.41266</td>\n",
       "      <td>0.470657</td>\n",
       "      <td>0.456923</td>\n",
       "      <td>0.494668</td>\n",
       "      <td>1.496863</td>\n",
       "      <td>0.356643</td>\n",
       "    </tr>\n",
       "    <tr>\n",
       "      <th>min</th>\n",
       "      <td>1.000000</td>\n",
       "      <td>0.000000</td>\n",
       "      <td>0.00000</td>\n",
       "      <td>0.00000</td>\n",
       "      <td>0.000000</td>\n",
       "      <td>0.000000</td>\n",
       "      <td>0.000000</td>\n",
       "      <td>4.670000</td>\n",
       "      <td>0.000000</td>\n",
       "    </tr>\n",
       "    <tr>\n",
       "      <th>25%</th>\n",
       "      <td>1.000000</td>\n",
       "      <td>21.000000</td>\n",
       "      <td>5.00000</td>\n",
       "      <td>5.00000</td>\n",
       "      <td>0.000000</td>\n",
       "      <td>0.000000</td>\n",
       "      <td>0.000000</td>\n",
       "      <td>5.620000</td>\n",
       "      <td>0.000000</td>\n",
       "    </tr>\n",
       "    <tr>\n",
       "      <th>50%</th>\n",
       "      <td>1.000000</td>\n",
       "      <td>51.000000</td>\n",
       "      <td>17.00000</td>\n",
       "      <td>9.00000</td>\n",
       "      <td>1.000000</td>\n",
       "      <td>0.000000</td>\n",
       "      <td>0.000000</td>\n",
       "      <td>7.570000</td>\n",
       "      <td>0.000000</td>\n",
       "    </tr>\n",
       "    <tr>\n",
       "      <th>75%</th>\n",
       "      <td>2.000000</td>\n",
       "      <td>115.000000</td>\n",
       "      <td>28.00000</td>\n",
       "      <td>13.00000</td>\n",
       "      <td>1.000000</td>\n",
       "      <td>1.000000</td>\n",
       "      <td>1.000000</td>\n",
       "      <td>8.830000</td>\n",
       "      <td>0.000000</td>\n",
       "    </tr>\n",
       "    <tr>\n",
       "      <th>max</th>\n",
       "      <td>9.000000</td>\n",
       "      <td>867.000000</td>\n",
       "      <td>778.00000</td>\n",
       "      <td>23.00000</td>\n",
       "      <td>1.000000</td>\n",
       "      <td>1.000000</td>\n",
       "      <td>1.000000</td>\n",
       "      <td>9.500000</td>\n",
       "      <td>1.000000</td>\n",
       "    </tr>\n",
       "  </tbody>\n",
       "</table>\n",
       "</div>"
      ],
      "text/plain": [
       "       num_passengers  purchase_lead  length_of_stay  flight_hour  \\\n",
       "count    50000.000000   50000.000000     50000.00000  50000.00000   \n",
       "mean         1.591240      84.940480        23.04456      9.06634   \n",
       "std          1.020165      90.451378        33.88767      5.41266   \n",
       "min          1.000000       0.000000         0.00000      0.00000   \n",
       "25%          1.000000      21.000000         5.00000      5.00000   \n",
       "50%          1.000000      51.000000        17.00000      9.00000   \n",
       "75%          2.000000     115.000000        28.00000     13.00000   \n",
       "max          9.000000     867.000000       778.00000     23.00000   \n",
       "\n",
       "       wants_extra_baggage  wants_preferred_seat  wants_in_flight_meals  \\\n",
       "count         50000.000000          50000.000000           50000.000000   \n",
       "mean              0.668780              0.296960               0.427140   \n",
       "std               0.470657              0.456923               0.494668   \n",
       "min               0.000000              0.000000               0.000000   \n",
       "25%               0.000000              0.000000               0.000000   \n",
       "50%               1.000000              0.000000               0.000000   \n",
       "75%               1.000000              1.000000               1.000000   \n",
       "max               1.000000              1.000000               1.000000   \n",
       "\n",
       "       flight_duration  booking_complete  \n",
       "count     50000.000000      50000.000000  \n",
       "mean          7.277561          0.149560  \n",
       "std           1.496863          0.356643  \n",
       "min           4.670000          0.000000  \n",
       "25%           5.620000          0.000000  \n",
       "50%           7.570000          0.000000  \n",
       "75%           8.830000          0.000000  \n",
       "max           9.500000          1.000000  "
      ]
     },
     "execution_count": 5,
     "metadata": {},
     "output_type": "execute_result"
    }
   ],
   "source": [
    "data.describe()"
   ]
  },
  {
   "cell_type": "markdown",
   "metadata": {},
   "source": [
    "### No null values in our dataset"
   ]
  },
  {
   "cell_type": "markdown",
   "metadata": {},
   "source": [
    "## 2.2.Feature Encoding"
   ]
  },
  {
   "cell_type": "code",
   "execution_count": 6,
   "metadata": {},
   "outputs": [],
   "source": [
    "# Separating categorical and numerical columns\n",
    "data_categorical = data.select_dtypes(include=\"object\")\n",
    "data_numerical = data.select_dtypes(exclude=\"object\")"
   ]
  },
  {
   "cell_type": "code",
   "execution_count": 7,
   "metadata": {},
   "outputs": [
    {
     "data": {
      "text/html": [
       "<div>\n",
       "<style scoped>\n",
       "    .dataframe tbody tr th:only-of-type {\n",
       "        vertical-align: middle;\n",
       "    }\n",
       "\n",
       "    .dataframe tbody tr th {\n",
       "        vertical-align: top;\n",
       "    }\n",
       "\n",
       "    .dataframe thead th {\n",
       "        text-align: right;\n",
       "    }\n",
       "</style>\n",
       "<table border=\"1\" class=\"dataframe\">\n",
       "  <thead>\n",
       "    <tr style=\"text-align: right;\">\n",
       "      <th></th>\n",
       "      <th>sales_channel</th>\n",
       "      <th>trip_type</th>\n",
       "      <th>flight_day</th>\n",
       "      <th>route</th>\n",
       "      <th>booking_origin</th>\n",
       "    </tr>\n",
       "  </thead>\n",
       "  <tbody>\n",
       "    <tr>\n",
       "      <th>0</th>\n",
       "      <td>Internet</td>\n",
       "      <td>RoundTrip</td>\n",
       "      <td>Sat</td>\n",
       "      <td>AKLDEL</td>\n",
       "      <td>New Zealand</td>\n",
       "    </tr>\n",
       "    <tr>\n",
       "      <th>1</th>\n",
       "      <td>Internet</td>\n",
       "      <td>RoundTrip</td>\n",
       "      <td>Sat</td>\n",
       "      <td>AKLDEL</td>\n",
       "      <td>New Zealand</td>\n",
       "    </tr>\n",
       "    <tr>\n",
       "      <th>2</th>\n",
       "      <td>Internet</td>\n",
       "      <td>RoundTrip</td>\n",
       "      <td>Wed</td>\n",
       "      <td>AKLDEL</td>\n",
       "      <td>India</td>\n",
       "    </tr>\n",
       "    <tr>\n",
       "      <th>3</th>\n",
       "      <td>Internet</td>\n",
       "      <td>RoundTrip</td>\n",
       "      <td>Sat</td>\n",
       "      <td>AKLDEL</td>\n",
       "      <td>New Zealand</td>\n",
       "    </tr>\n",
       "    <tr>\n",
       "      <th>4</th>\n",
       "      <td>Internet</td>\n",
       "      <td>RoundTrip</td>\n",
       "      <td>Wed</td>\n",
       "      <td>AKLDEL</td>\n",
       "      <td>India</td>\n",
       "    </tr>\n",
       "  </tbody>\n",
       "</table>\n",
       "</div>"
      ],
      "text/plain": [
       "  sales_channel  trip_type flight_day   route booking_origin\n",
       "0      Internet  RoundTrip        Sat  AKLDEL    New Zealand\n",
       "1      Internet  RoundTrip        Sat  AKLDEL    New Zealand\n",
       "2      Internet  RoundTrip        Wed  AKLDEL          India\n",
       "3      Internet  RoundTrip        Sat  AKLDEL    New Zealand\n",
       "4      Internet  RoundTrip        Wed  AKLDEL          India"
      ]
     },
     "execution_count": 7,
     "metadata": {},
     "output_type": "execute_result"
    }
   ],
   "source": [
    "data_categorical.head()"
   ]
  },
  {
   "cell_type": "code",
   "execution_count": 8,
   "metadata": {},
   "outputs": [
    {
     "name": "stdout",
     "output_type": "stream",
     "text": [
      "Internet    44382\n",
      "Mobile       5618\n",
      "Name: sales_channel, dtype: int64\n",
      "\n",
      "\n",
      "RoundTrip     49497\n",
      "OneWay          387\n",
      "CircleTrip      116\n",
      "Name: trip_type, dtype: int64\n",
      "\n",
      "\n",
      "Mon    8102\n",
      "Wed    7674\n",
      "Tue    7673\n",
      "Thu    7424\n",
      "Fri    6761\n",
      "Sun    6554\n",
      "Sat    5812\n",
      "Name: flight_day, dtype: int64\n",
      "\n",
      "\n",
      "AKLKUL    2680\n",
      "PENTPE     924\n",
      "MELSGN     842\n",
      "ICNSIN     801\n",
      "DMKKIX     744\n",
      "          ... \n",
      "BTUWUH       1\n",
      "MELVTE       1\n",
      "KBRWUH       1\n",
      "DACMRU       1\n",
      "BKIMRU       1\n",
      "Name: route, Length: 799, dtype: int64\n",
      "\n",
      "\n",
      "Australia      17872\n",
      "Malaysia        7174\n",
      "South Korea     4559\n",
      "Japan           3885\n",
      "China           3387\n",
      "               ...  \n",
      "Guatemala          1\n",
      "Bhutan             1\n",
      "Belarus            1\n",
      "Bulgaria           1\n",
      "Paraguay           1\n",
      "Name: booking_origin, Length: 104, dtype: int64\n",
      "\n",
      "\n"
     ]
    }
   ],
   "source": [
    "for col in data_categorical:\n",
    "    print(data_categorical[col].value_counts())\n",
    "    print(\"\\n\")"
   ]
  },
  {
   "cell_type": "markdown",
   "metadata": {},
   "source": [
    "### Using OneHotEncdoing "
   ]
  },
  {
   "cell_type": "code",
   "execution_count": 9,
   "metadata": {},
   "outputs": [
    {
     "data": {
      "text/plain": [
       "Index(['sales_channel', 'trip_type', 'flight_day', 'route', 'booking_origin'], dtype='object')"
      ]
     },
     "execution_count": 9,
     "metadata": {},
     "output_type": "execute_result"
    }
   ],
   "source": [
    "data_categorical.columns"
   ]
  },
  {
   "cell_type": "code",
   "execution_count": 10,
   "metadata": {},
   "outputs": [],
   "source": [
    "columns = ['sales_channel', 'trip_type', 'flight_day', 'route', 'booking_origin']\n",
    "for value in columns:\n",
    "    data_categorical=pd.get_dummies(data_categorical, columns=[value],drop_first=True)"
   ]
  },
  {
   "cell_type": "code",
   "execution_count": 11,
   "metadata": {},
   "outputs": [
    {
     "data": {
      "text/plain": [
       "(50000, 910)"
      ]
     },
     "execution_count": 11,
     "metadata": {},
     "output_type": "execute_result"
    }
   ],
   "source": [
    "data_categorical.shape"
   ]
  },
  {
   "cell_type": "code",
   "execution_count": 12,
   "metadata": {},
   "outputs": [
    {
     "data": {
      "text/html": [
       "<div>\n",
       "<style scoped>\n",
       "    .dataframe tbody tr th:only-of-type {\n",
       "        vertical-align: middle;\n",
       "    }\n",
       "\n",
       "    .dataframe tbody tr th {\n",
       "        vertical-align: top;\n",
       "    }\n",
       "\n",
       "    .dataframe thead th {\n",
       "        text-align: right;\n",
       "    }\n",
       "</style>\n",
       "<table border=\"1\" class=\"dataframe\">\n",
       "  <thead>\n",
       "    <tr style=\"text-align: right;\">\n",
       "      <th></th>\n",
       "      <th>sales_channel_Mobile</th>\n",
       "      <th>trip_type_OneWay</th>\n",
       "      <th>trip_type_RoundTrip</th>\n",
       "      <th>flight_day_Mon</th>\n",
       "      <th>flight_day_Sat</th>\n",
       "      <th>flight_day_Sun</th>\n",
       "      <th>flight_day_Thu</th>\n",
       "      <th>flight_day_Tue</th>\n",
       "      <th>flight_day_Wed</th>\n",
       "      <th>route_AKLHGH</th>\n",
       "      <th>...</th>\n",
       "      <th>booking_origin_Timor-Leste</th>\n",
       "      <th>booking_origin_Tonga</th>\n",
       "      <th>booking_origin_Tunisia</th>\n",
       "      <th>booking_origin_Turkey</th>\n",
       "      <th>booking_origin_Ukraine</th>\n",
       "      <th>booking_origin_United Arab Emirates</th>\n",
       "      <th>booking_origin_United Kingdom</th>\n",
       "      <th>booking_origin_United States</th>\n",
       "      <th>booking_origin_Vanuatu</th>\n",
       "      <th>booking_origin_Vietnam</th>\n",
       "    </tr>\n",
       "  </thead>\n",
       "  <tbody>\n",
       "    <tr>\n",
       "      <th>0</th>\n",
       "      <td>0</td>\n",
       "      <td>0</td>\n",
       "      <td>1</td>\n",
       "      <td>0</td>\n",
       "      <td>1</td>\n",
       "      <td>0</td>\n",
       "      <td>0</td>\n",
       "      <td>0</td>\n",
       "      <td>0</td>\n",
       "      <td>0</td>\n",
       "      <td>...</td>\n",
       "      <td>0</td>\n",
       "      <td>0</td>\n",
       "      <td>0</td>\n",
       "      <td>0</td>\n",
       "      <td>0</td>\n",
       "      <td>0</td>\n",
       "      <td>0</td>\n",
       "      <td>0</td>\n",
       "      <td>0</td>\n",
       "      <td>0</td>\n",
       "    </tr>\n",
       "    <tr>\n",
       "      <th>1</th>\n",
       "      <td>0</td>\n",
       "      <td>0</td>\n",
       "      <td>1</td>\n",
       "      <td>0</td>\n",
       "      <td>1</td>\n",
       "      <td>0</td>\n",
       "      <td>0</td>\n",
       "      <td>0</td>\n",
       "      <td>0</td>\n",
       "      <td>0</td>\n",
       "      <td>...</td>\n",
       "      <td>0</td>\n",
       "      <td>0</td>\n",
       "      <td>0</td>\n",
       "      <td>0</td>\n",
       "      <td>0</td>\n",
       "      <td>0</td>\n",
       "      <td>0</td>\n",
       "      <td>0</td>\n",
       "      <td>0</td>\n",
       "      <td>0</td>\n",
       "    </tr>\n",
       "    <tr>\n",
       "      <th>2</th>\n",
       "      <td>0</td>\n",
       "      <td>0</td>\n",
       "      <td>1</td>\n",
       "      <td>0</td>\n",
       "      <td>0</td>\n",
       "      <td>0</td>\n",
       "      <td>0</td>\n",
       "      <td>0</td>\n",
       "      <td>1</td>\n",
       "      <td>0</td>\n",
       "      <td>...</td>\n",
       "      <td>0</td>\n",
       "      <td>0</td>\n",
       "      <td>0</td>\n",
       "      <td>0</td>\n",
       "      <td>0</td>\n",
       "      <td>0</td>\n",
       "      <td>0</td>\n",
       "      <td>0</td>\n",
       "      <td>0</td>\n",
       "      <td>0</td>\n",
       "    </tr>\n",
       "    <tr>\n",
       "      <th>3</th>\n",
       "      <td>0</td>\n",
       "      <td>0</td>\n",
       "      <td>1</td>\n",
       "      <td>0</td>\n",
       "      <td>1</td>\n",
       "      <td>0</td>\n",
       "      <td>0</td>\n",
       "      <td>0</td>\n",
       "      <td>0</td>\n",
       "      <td>0</td>\n",
       "      <td>...</td>\n",
       "      <td>0</td>\n",
       "      <td>0</td>\n",
       "      <td>0</td>\n",
       "      <td>0</td>\n",
       "      <td>0</td>\n",
       "      <td>0</td>\n",
       "      <td>0</td>\n",
       "      <td>0</td>\n",
       "      <td>0</td>\n",
       "      <td>0</td>\n",
       "    </tr>\n",
       "    <tr>\n",
       "      <th>4</th>\n",
       "      <td>0</td>\n",
       "      <td>0</td>\n",
       "      <td>1</td>\n",
       "      <td>0</td>\n",
       "      <td>0</td>\n",
       "      <td>0</td>\n",
       "      <td>0</td>\n",
       "      <td>0</td>\n",
       "      <td>1</td>\n",
       "      <td>0</td>\n",
       "      <td>...</td>\n",
       "      <td>0</td>\n",
       "      <td>0</td>\n",
       "      <td>0</td>\n",
       "      <td>0</td>\n",
       "      <td>0</td>\n",
       "      <td>0</td>\n",
       "      <td>0</td>\n",
       "      <td>0</td>\n",
       "      <td>0</td>\n",
       "      <td>0</td>\n",
       "    </tr>\n",
       "  </tbody>\n",
       "</table>\n",
       "<p>5 rows × 910 columns</p>\n",
       "</div>"
      ],
      "text/plain": [
       "   sales_channel_Mobile  trip_type_OneWay  trip_type_RoundTrip  \\\n",
       "0                     0                 0                    1   \n",
       "1                     0                 0                    1   \n",
       "2                     0                 0                    1   \n",
       "3                     0                 0                    1   \n",
       "4                     0                 0                    1   \n",
       "\n",
       "   flight_day_Mon  flight_day_Sat  flight_day_Sun  flight_day_Thu  \\\n",
       "0               0               1               0               0   \n",
       "1               0               1               0               0   \n",
       "2               0               0               0               0   \n",
       "3               0               1               0               0   \n",
       "4               0               0               0               0   \n",
       "\n",
       "   flight_day_Tue  flight_day_Wed  route_AKLHGH  ...  \\\n",
       "0               0               0             0  ...   \n",
       "1               0               0             0  ...   \n",
       "2               0               1             0  ...   \n",
       "3               0               0             0  ...   \n",
       "4               0               1             0  ...   \n",
       "\n",
       "   booking_origin_Timor-Leste  booking_origin_Tonga  booking_origin_Tunisia  \\\n",
       "0                           0                     0                       0   \n",
       "1                           0                     0                       0   \n",
       "2                           0                     0                       0   \n",
       "3                           0                     0                       0   \n",
       "4                           0                     0                       0   \n",
       "\n",
       "   booking_origin_Turkey  booking_origin_Ukraine  \\\n",
       "0                      0                       0   \n",
       "1                      0                       0   \n",
       "2                      0                       0   \n",
       "3                      0                       0   \n",
       "4                      0                       0   \n",
       "\n",
       "   booking_origin_United Arab Emirates  booking_origin_United Kingdom  \\\n",
       "0                                    0                              0   \n",
       "1                                    0                              0   \n",
       "2                                    0                              0   \n",
       "3                                    0                              0   \n",
       "4                                    0                              0   \n",
       "\n",
       "   booking_origin_United States  booking_origin_Vanuatu  \\\n",
       "0                             0                       0   \n",
       "1                             0                       0   \n",
       "2                             0                       0   \n",
       "3                             0                       0   \n",
       "4                             0                       0   \n",
       "\n",
       "   booking_origin_Vietnam  \n",
       "0                       0  \n",
       "1                       0  \n",
       "2                       0  \n",
       "3                       0  \n",
       "4                       0  \n",
       "\n",
       "[5 rows x 910 columns]"
      ]
     },
     "execution_count": 12,
     "metadata": {},
     "output_type": "execute_result"
    }
   ],
   "source": [
    "data_categorical.head()"
   ]
  },
  {
   "cell_type": "markdown",
   "metadata": {},
   "source": [
    "## 2.3.Outlier detection"
   ]
  },
  {
   "cell_type": "code",
   "execution_count": 13,
   "metadata": {},
   "outputs": [
    {
     "data": {
      "text/html": [
       "<div>\n",
       "<style scoped>\n",
       "    .dataframe tbody tr th:only-of-type {\n",
       "        vertical-align: middle;\n",
       "    }\n",
       "\n",
       "    .dataframe tbody tr th {\n",
       "        vertical-align: top;\n",
       "    }\n",
       "\n",
       "    .dataframe thead th {\n",
       "        text-align: right;\n",
       "    }\n",
       "</style>\n",
       "<table border=\"1\" class=\"dataframe\">\n",
       "  <thead>\n",
       "    <tr style=\"text-align: right;\">\n",
       "      <th></th>\n",
       "      <th>num_passengers</th>\n",
       "      <th>purchase_lead</th>\n",
       "      <th>length_of_stay</th>\n",
       "      <th>flight_hour</th>\n",
       "      <th>wants_extra_baggage</th>\n",
       "      <th>wants_preferred_seat</th>\n",
       "      <th>wants_in_flight_meals</th>\n",
       "      <th>flight_duration</th>\n",
       "      <th>booking_complete</th>\n",
       "    </tr>\n",
       "  </thead>\n",
       "  <tbody>\n",
       "    <tr>\n",
       "      <th>0</th>\n",
       "      <td>2</td>\n",
       "      <td>262</td>\n",
       "      <td>19</td>\n",
       "      <td>7</td>\n",
       "      <td>1</td>\n",
       "      <td>0</td>\n",
       "      <td>0</td>\n",
       "      <td>5.52</td>\n",
       "      <td>0</td>\n",
       "    </tr>\n",
       "    <tr>\n",
       "      <th>1</th>\n",
       "      <td>1</td>\n",
       "      <td>112</td>\n",
       "      <td>20</td>\n",
       "      <td>3</td>\n",
       "      <td>0</td>\n",
       "      <td>0</td>\n",
       "      <td>0</td>\n",
       "      <td>5.52</td>\n",
       "      <td>0</td>\n",
       "    </tr>\n",
       "    <tr>\n",
       "      <th>2</th>\n",
       "      <td>2</td>\n",
       "      <td>243</td>\n",
       "      <td>22</td>\n",
       "      <td>17</td>\n",
       "      <td>1</td>\n",
       "      <td>1</td>\n",
       "      <td>0</td>\n",
       "      <td>5.52</td>\n",
       "      <td>0</td>\n",
       "    </tr>\n",
       "    <tr>\n",
       "      <th>3</th>\n",
       "      <td>1</td>\n",
       "      <td>96</td>\n",
       "      <td>31</td>\n",
       "      <td>4</td>\n",
       "      <td>0</td>\n",
       "      <td>0</td>\n",
       "      <td>1</td>\n",
       "      <td>5.52</td>\n",
       "      <td>0</td>\n",
       "    </tr>\n",
       "    <tr>\n",
       "      <th>4</th>\n",
       "      <td>2</td>\n",
       "      <td>68</td>\n",
       "      <td>22</td>\n",
       "      <td>15</td>\n",
       "      <td>1</td>\n",
       "      <td>0</td>\n",
       "      <td>1</td>\n",
       "      <td>5.52</td>\n",
       "      <td>0</td>\n",
       "    </tr>\n",
       "  </tbody>\n",
       "</table>\n",
       "</div>"
      ],
      "text/plain": [
       "   num_passengers  purchase_lead  length_of_stay  flight_hour  \\\n",
       "0               2            262              19            7   \n",
       "1               1            112              20            3   \n",
       "2               2            243              22           17   \n",
       "3               1             96              31            4   \n",
       "4               2             68              22           15   \n",
       "\n",
       "   wants_extra_baggage  wants_preferred_seat  wants_in_flight_meals  \\\n",
       "0                    1                     0                      0   \n",
       "1                    0                     0                      0   \n",
       "2                    1                     1                      0   \n",
       "3                    0                     0                      1   \n",
       "4                    1                     0                      1   \n",
       "\n",
       "   flight_duration  booking_complete  \n",
       "0             5.52                 0  \n",
       "1             5.52                 0  \n",
       "2             5.52                 0  \n",
       "3             5.52                 0  \n",
       "4             5.52                 0  "
      ]
     },
     "execution_count": 13,
     "metadata": {},
     "output_type": "execute_result"
    }
   ],
   "source": [
    "data_numerical.head()"
   ]
  },
  {
   "cell_type": "code",
   "execution_count": 14,
   "metadata": {},
   "outputs": [
    {
     "data": {
      "image/png": "[encoded data removed]",
      "text/plain": [
       "<Figure size 1440x360 with 1 Axes>"
      ]
     },
     "metadata": {
      "needs_background": "light"
     },
     "output_type": "display_data"
    }
   ],
   "source": [
    "# Plotting boxplot for detecting outliers\n",
    "plt.figure(figsize=(20,5))\n",
    "sns.boxplot(data = data_numerical)\n",
    "plt.show()"
   ]
  },
  {
   "cell_type": "code",
   "execution_count": 15,
   "metadata": {},
   "outputs": [
    {
     "data": {
      "text/plain": [
       "Index(['num_passengers', 'purchase_lead', 'length_of_stay', 'flight_hour',\n",
       "       'wants_extra_baggage', 'wants_preferred_seat', 'wants_in_flight_meals',\n",
       "       'flight_duration', 'booking_complete'],\n",
       "      dtype='object')"
      ]
     },
     "execution_count": 15,
     "metadata": {},
     "output_type": "execute_result"
    }
   ],
   "source": [
    "data_numerical.columns"
   ]
  },
  {
   "cell_type": "code",
   "execution_count": 16,
   "metadata": {},
   "outputs": [
    {
     "name": "stderr",
     "output_type": "stream",
     "text": [
      "<ipython-input-16-9a3a3442808e>:19: SettingWithCopyWarning: \n",
      "A value is trying to be set on a copy of a slice from a DataFrame.\n",
      "Try using .loc[row_indexer,col_indexer] = value instead\n",
      "\n",
      "See the caveats in the documentation: https://pandas.pydata.org/pandas-docs/stable/user_guide/indexing.html#returning-a-view-versus-a-copy\n",
      "  data_numerical[feature] = np.where(data_numerical[feature]< lower_limit, median,data_numerical[feature])\n",
      "<ipython-input-16-9a3a3442808e>:20: SettingWithCopyWarning: \n",
      "A value is trying to be set on a copy of a slice from a DataFrame.\n",
      "Try using .loc[row_indexer,col_indexer] = value instead\n",
      "\n",
      "See the caveats in the documentation: https://pandas.pydata.org/pandas-docs/stable/user_guide/indexing.html#returning-a-view-versus-a-copy\n",
      "  data_numerical[feature] = np.where(data_numerical[feature]> upper_limit, median,data_numerical[feature])\n",
      "<ipython-input-16-9a3a3442808e>:19: SettingWithCopyWarning: \n",
      "A value is trying to be set on a copy of a slice from a DataFrame.\n",
      "Try using .loc[row_indexer,col_indexer] = value instead\n",
      "\n",
      "See the caveats in the documentation: https://pandas.pydata.org/pandas-docs/stable/user_guide/indexing.html#returning-a-view-versus-a-copy\n",
      "  data_numerical[feature] = np.where(data_numerical[feature]< lower_limit, median,data_numerical[feature])\n",
      "<ipython-input-16-9a3a3442808e>:20: SettingWithCopyWarning: \n",
      "A value is trying to be set on a copy of a slice from a DataFrame.\n",
      "Try using .loc[row_indexer,col_indexer] = value instead\n",
      "\n",
      "See the caveats in the documentation: https://pandas.pydata.org/pandas-docs/stable/user_guide/indexing.html#returning-a-view-versus-a-copy\n",
      "  data_numerical[feature] = np.where(data_numerical[feature]> upper_limit, median,data_numerical[feature])\n",
      "<ipython-input-16-9a3a3442808e>:19: SettingWithCopyWarning: \n",
      "A value is trying to be set on a copy of a slice from a DataFrame.\n",
      "Try using .loc[row_indexer,col_indexer] = value instead\n",
      "\n",
      "See the caveats in the documentation: https://pandas.pydata.org/pandas-docs/stable/user_guide/indexing.html#returning-a-view-versus-a-copy\n",
      "  data_numerical[feature] = np.where(data_numerical[feature]< lower_limit, median,data_numerical[feature])\n",
      "<ipython-input-16-9a3a3442808e>:20: SettingWithCopyWarning: \n",
      "A value is trying to be set on a copy of a slice from a DataFrame.\n",
      "Try using .loc[row_indexer,col_indexer] = value instead\n",
      "\n",
      "See the caveats in the documentation: https://pandas.pydata.org/pandas-docs/stable/user_guide/indexing.html#returning-a-view-versus-a-copy\n",
      "  data_numerical[feature] = np.where(data_numerical[feature]> upper_limit, median,data_numerical[feature])\n",
      "<ipython-input-16-9a3a3442808e>:19: SettingWithCopyWarning: \n",
      "A value is trying to be set on a copy of a slice from a DataFrame.\n",
      "Try using .loc[row_indexer,col_indexer] = value instead\n",
      "\n",
      "See the caveats in the documentation: https://pandas.pydata.org/pandas-docs/stable/user_guide/indexing.html#returning-a-view-versus-a-copy\n",
      "  data_numerical[feature] = np.where(data_numerical[feature]< lower_limit, median,data_numerical[feature])\n",
      "<ipython-input-16-9a3a3442808e>:20: SettingWithCopyWarning: \n",
      "A value is trying to be set on a copy of a slice from a DataFrame.\n",
      "Try using .loc[row_indexer,col_indexer] = value instead\n",
      "\n",
      "See the caveats in the documentation: https://pandas.pydata.org/pandas-docs/stable/user_guide/indexing.html#returning-a-view-versus-a-copy\n",
      "  data_numerical[feature] = np.where(data_numerical[feature]> upper_limit, median,data_numerical[feature])\n",
      "<ipython-input-16-9a3a3442808e>:19: SettingWithCopyWarning: \n",
      "A value is trying to be set on a copy of a slice from a DataFrame.\n",
      "Try using .loc[row_indexer,col_indexer] = value instead\n",
      "\n",
      "See the caveats in the documentation: https://pandas.pydata.org/pandas-docs/stable/user_guide/indexing.html#returning-a-view-versus-a-copy\n",
      "  data_numerical[feature] = np.where(data_numerical[feature]< lower_limit, median,data_numerical[feature])\n",
      "<ipython-input-16-9a3a3442808e>:20: SettingWithCopyWarning: \n",
      "A value is trying to be set on a copy of a slice from a DataFrame.\n",
      "Try using .loc[row_indexer,col_indexer] = value instead\n",
      "\n",
      "See the caveats in the documentation: https://pandas.pydata.org/pandas-docs/stable/user_guide/indexing.html#returning-a-view-versus-a-copy\n",
      "  data_numerical[feature] = np.where(data_numerical[feature]> upper_limit, median,data_numerical[feature])\n",
      "<ipython-input-16-9a3a3442808e>:19: SettingWithCopyWarning: \n",
      "A value is trying to be set on a copy of a slice from a DataFrame.\n",
      "Try using .loc[row_indexer,col_indexer] = value instead\n",
      "\n",
      "See the caveats in the documentation: https://pandas.pydata.org/pandas-docs/stable/user_guide/indexing.html#returning-a-view-versus-a-copy\n",
      "  data_numerical[feature] = np.where(data_numerical[feature]< lower_limit, median,data_numerical[feature])\n",
      "<ipython-input-16-9a3a3442808e>:20: SettingWithCopyWarning: \n",
      "A value is trying to be set on a copy of a slice from a DataFrame.\n",
      "Try using .loc[row_indexer,col_indexer] = value instead\n",
      "\n",
      "See the caveats in the documentation: https://pandas.pydata.org/pandas-docs/stable/user_guide/indexing.html#returning-a-view-versus-a-copy\n",
      "  data_numerical[feature] = np.where(data_numerical[feature]> upper_limit, median,data_numerical[feature])\n",
      "<ipython-input-16-9a3a3442808e>:19: SettingWithCopyWarning: \n",
      "A value is trying to be set on a copy of a slice from a DataFrame.\n",
      "Try using .loc[row_indexer,col_indexer] = value instead\n",
      "\n",
      "See the caveats in the documentation: https://pandas.pydata.org/pandas-docs/stable/user_guide/indexing.html#returning-a-view-versus-a-copy\n",
      "  data_numerical[feature] = np.where(data_numerical[feature]< lower_limit, median,data_numerical[feature])\n",
      "<ipython-input-16-9a3a3442808e>:20: SettingWithCopyWarning: \n",
      "A value is trying to be set on a copy of a slice from a DataFrame.\n",
      "Try using .loc[row_indexer,col_indexer] = value instead\n",
      "\n",
      "See the caveats in the documentation: https://pandas.pydata.org/pandas-docs/stable/user_guide/indexing.html#returning-a-view-versus-a-copy\n",
      "  data_numerical[feature] = np.where(data_numerical[feature]> upper_limit, median,data_numerical[feature])\n",
      "<ipython-input-16-9a3a3442808e>:19: SettingWithCopyWarning: \n",
      "A value is trying to be set on a copy of a slice from a DataFrame.\n",
      "Try using .loc[row_indexer,col_indexer] = value instead\n",
      "\n",
      "See the caveats in the documentation: https://pandas.pydata.org/pandas-docs/stable/user_guide/indexing.html#returning-a-view-versus-a-copy\n",
      "  data_numerical[feature] = np.where(data_numerical[feature]< lower_limit, median,data_numerical[feature])\n",
      "<ipython-input-16-9a3a3442808e>:20: SettingWithCopyWarning: \n",
      "A value is trying to be set on a copy of a slice from a DataFrame.\n",
      "Try using .loc[row_indexer,col_indexer] = value instead\n",
      "\n",
      "See the caveats in the documentation: https://pandas.pydata.org/pandas-docs/stable/user_guide/indexing.html#returning-a-view-versus-a-copy\n",
      "  data_numerical[feature] = np.where(data_numerical[feature]> upper_limit, median,data_numerical[feature])\n"
     ]
    }
   ],
   "source": [
    "# Replacing outliers with median\n",
    "#function to return a list of index of outliers\n",
    "column_list = ['num_passengers', 'purchase_lead', 'length_of_stay', 'flight_hour',\n",
    "       'wants_extra_baggage', 'wants_preferred_seat', 'wants_in_flight_meals',\n",
    "       'flight_duration']\n",
    "for feature in column_list:\n",
    "    Q1= data_numerical[feature].quantile(0.25)\n",
    "    Q3 =data_numerical[feature].quantile(0.75)\n",
    "    IQR = Q3 - Q1\n",
    "    \n",
    "    \n",
    "    lower_limit = Q1 - 1.5 * IQR\n",
    "    \n",
    "    upper_limit = Q3 + 1.5 * IQR\n",
    "  \n",
    "    \n",
    "    median = data_numerical[feature].median()\n",
    "    \n",
    "    data_numerical[feature] = np.where(data_numerical[feature]< lower_limit, median,data_numerical[feature])\n",
    "    data_numerical[feature] = np.where(data_numerical[feature]> upper_limit, median,data_numerical[feature])"
   ]
  },
  {
   "cell_type": "code",
   "execution_count": 22,
   "metadata": {},
   "outputs": [
    {
     "data": {
      "image/png": "[encoded data removed]",
      "text/plain": [
       "<Figure size 1440x360 with 1 Axes>"
      ]
     },
     "metadata": {
      "needs_background": "light"
     },
     "output_type": "display_data"
    }
   ],
   "source": [
    "# Plotting boxplot for detecting outliers\n",
    "plt.figure(figsize=(20,5))\n",
    "sns.boxplot(data=data_numerical, palette='pastel')\n",
    "plt.title('Boxplot of Numerical Variables', fontsize=16)\n",
    "plt.xlabel('Variables', fontsize=14)\n",
    "plt.show()\n"
   ]
  },
  {
   "cell_type": "markdown",
   "metadata": {},
   "source": [
    "## 2.4.Feature Scaling"
   ]
  },
  {
   "cell_type": "code",
   "execution_count": 23,
   "metadata": {},
   "outputs": [],
   "source": [
    "# combining numerical and categorical column data\n",
    "df = pd.concat([data_categorical,data_numerical], axis =1)"
   ]
  },
  {
   "cell_type": "code",
   "execution_count": 24,
   "metadata": {},
   "outputs": [
    {
     "data": {
      "text/html": [
       "<div>\n",
       "<style scoped>\n",
       "    .dataframe tbody tr th:only-of-type {\n",
       "        vertical-align: middle;\n",
       "    }\n",
       "\n",
       "    .dataframe tbody tr th {\n",
       "        vertical-align: top;\n",
       "    }\n",
       "\n",
       "    .dataframe thead th {\n",
       "        text-align: right;\n",
       "    }\n",
       "</style>\n",
       "<table border=\"1\" class=\"dataframe\">\n",
       "  <thead>\n",
       "    <tr style=\"text-align: right;\">\n",
       "      <th></th>\n",
       "      <th>sales_channel_Mobile</th>\n",
       "      <th>trip_type_OneWay</th>\n",
       "      <th>trip_type_RoundTrip</th>\n",
       "      <th>flight_day_Mon</th>\n",
       "      <th>flight_day_Sat</th>\n",
       "      <th>flight_day_Sun</th>\n",
       "      <th>flight_day_Thu</th>\n",
       "      <th>flight_day_Tue</th>\n",
       "      <th>flight_day_Wed</th>\n",
       "      <th>route_AKLHGH</th>\n",
       "      <th>...</th>\n",
       "      <th>booking_origin_Vietnam</th>\n",
       "      <th>num_passengers</th>\n",
       "      <th>purchase_lead</th>\n",
       "      <th>length_of_stay</th>\n",
       "      <th>flight_hour</th>\n",
       "      <th>wants_extra_baggage</th>\n",
       "      <th>wants_preferred_seat</th>\n",
       "      <th>wants_in_flight_meals</th>\n",
       "      <th>flight_duration</th>\n",
       "      <th>booking_complete</th>\n",
       "    </tr>\n",
       "  </thead>\n",
       "  <tbody>\n",
       "    <tr>\n",
       "      <th>0</th>\n",
       "      <td>0</td>\n",
       "      <td>0</td>\n",
       "      <td>1</td>\n",
       "      <td>0</td>\n",
       "      <td>1</td>\n",
       "      <td>0</td>\n",
       "      <td>0</td>\n",
       "      <td>0</td>\n",
       "      <td>0</td>\n",
       "      <td>0</td>\n",
       "      <td>...</td>\n",
       "      <td>0</td>\n",
       "      <td>2.0</td>\n",
       "      <td>51.0</td>\n",
       "      <td>19.0</td>\n",
       "      <td>7.0</td>\n",
       "      <td>1.0</td>\n",
       "      <td>0.0</td>\n",
       "      <td>0.0</td>\n",
       "      <td>5.52</td>\n",
       "      <td>0</td>\n",
       "    </tr>\n",
       "    <tr>\n",
       "      <th>1</th>\n",
       "      <td>0</td>\n",
       "      <td>0</td>\n",
       "      <td>1</td>\n",
       "      <td>0</td>\n",
       "      <td>1</td>\n",
       "      <td>0</td>\n",
       "      <td>0</td>\n",
       "      <td>0</td>\n",
       "      <td>0</td>\n",
       "      <td>0</td>\n",
       "      <td>...</td>\n",
       "      <td>0</td>\n",
       "      <td>1.0</td>\n",
       "      <td>112.0</td>\n",
       "      <td>20.0</td>\n",
       "      <td>3.0</td>\n",
       "      <td>0.0</td>\n",
       "      <td>0.0</td>\n",
       "      <td>0.0</td>\n",
       "      <td>5.52</td>\n",
       "      <td>0</td>\n",
       "    </tr>\n",
       "    <tr>\n",
       "      <th>2</th>\n",
       "      <td>0</td>\n",
       "      <td>0</td>\n",
       "      <td>1</td>\n",
       "      <td>0</td>\n",
       "      <td>0</td>\n",
       "      <td>0</td>\n",
       "      <td>0</td>\n",
       "      <td>0</td>\n",
       "      <td>1</td>\n",
       "      <td>0</td>\n",
       "      <td>...</td>\n",
       "      <td>0</td>\n",
       "      <td>2.0</td>\n",
       "      <td>243.0</td>\n",
       "      <td>22.0</td>\n",
       "      <td>17.0</td>\n",
       "      <td>1.0</td>\n",
       "      <td>1.0</td>\n",
       "      <td>0.0</td>\n",
       "      <td>5.52</td>\n",
       "      <td>0</td>\n",
       "    </tr>\n",
       "    <tr>\n",
       "      <th>3</th>\n",
       "      <td>0</td>\n",
       "      <td>0</td>\n",
       "      <td>1</td>\n",
       "      <td>0</td>\n",
       "      <td>1</td>\n",
       "      <td>0</td>\n",
       "      <td>0</td>\n",
       "      <td>0</td>\n",
       "      <td>0</td>\n",
       "      <td>0</td>\n",
       "      <td>...</td>\n",
       "      <td>0</td>\n",
       "      <td>1.0</td>\n",
       "      <td>96.0</td>\n",
       "      <td>31.0</td>\n",
       "      <td>4.0</td>\n",
       "      <td>0.0</td>\n",
       "      <td>0.0</td>\n",
       "      <td>1.0</td>\n",
       "      <td>5.52</td>\n",
       "      <td>0</td>\n",
       "    </tr>\n",
       "    <tr>\n",
       "      <th>4</th>\n",
       "      <td>0</td>\n",
       "      <td>0</td>\n",
       "      <td>1</td>\n",
       "      <td>0</td>\n",
       "      <td>0</td>\n",
       "      <td>0</td>\n",
       "      <td>0</td>\n",
       "      <td>0</td>\n",
       "      <td>1</td>\n",
       "      <td>0</td>\n",
       "      <td>...</td>\n",
       "      <td>0</td>\n",
       "      <td>2.0</td>\n",
       "      <td>68.0</td>\n",
       "      <td>22.0</td>\n",
       "      <td>15.0</td>\n",
       "      <td>1.0</td>\n",
       "      <td>0.0</td>\n",
       "      <td>1.0</td>\n",
       "      <td>5.52</td>\n",
       "      <td>0</td>\n",
       "    </tr>\n",
       "  </tbody>\n",
       "</table>\n",
       "<p>5 rows × 919 columns</p>\n",
       "</div>"
      ],
      "text/plain": [
       "   sales_channel_Mobile  trip_type_OneWay  trip_type_RoundTrip  \\\n",
       "0                     0                 0                    1   \n",
       "1                     0                 0                    1   \n",
       "2                     0                 0                    1   \n",
       "3                     0                 0                    1   \n",
       "4                     0                 0                    1   \n",
       "\n",
       "   flight_day_Mon  flight_day_Sat  flight_day_Sun  flight_day_Thu  \\\n",
       "0               0               1               0               0   \n",
       "1               0               1               0               0   \n",
       "2               0               0               0               0   \n",
       "3               0               1               0               0   \n",
       "4               0               0               0               0   \n",
       "\n",
       "   flight_day_Tue  flight_day_Wed  route_AKLHGH  ...  booking_origin_Vietnam  \\\n",
       "0               0               0             0  ...                       0   \n",
       "1               0               0             0  ...                       0   \n",
       "2               0               1             0  ...                       0   \n",
       "3               0               0             0  ...                       0   \n",
       "4               0               1             0  ...                       0   \n",
       "\n",
       "   num_passengers  purchase_lead  length_of_stay  flight_hour  \\\n",
       "0             2.0           51.0            19.0          7.0   \n",
       "1             1.0          112.0            20.0          3.0   \n",
       "2             2.0          243.0            22.0         17.0   \n",
       "3             1.0           96.0            31.0          4.0   \n",
       "4             2.0           68.0            22.0         15.0   \n",
       "\n",
       "   wants_extra_baggage  wants_preferred_seat  wants_in_flight_meals  \\\n",
       "0                  1.0                   0.0                    0.0   \n",
       "1                  0.0                   0.0                    0.0   \n",
       "2                  1.0                   1.0                    0.0   \n",
       "3                  0.0                   0.0                    1.0   \n",
       "4                  1.0                   0.0                    1.0   \n",
       "\n",
       "   flight_duration  booking_complete  \n",
       "0             5.52                 0  \n",
       "1             5.52                 0  \n",
       "2             5.52                 0  \n",
       "3             5.52                 0  \n",
       "4             5.52                 0  \n",
       "\n",
       "[5 rows x 919 columns]"
      ]
     },
     "execution_count": 24,
     "metadata": {},
     "output_type": "execute_result"
    }
   ],
   "source": [
    "df.head()"
   ]
  },
  {
   "cell_type": "code",
   "execution_count": 25,
   "metadata": {},
   "outputs": [],
   "source": [
    "# Separating dependent and independent variables\n",
    "X = df.drop([\"booking_complete\"] , axis=1)\n",
    "y = df[\"booking_complete\"]"
   ]
  },
  {
   "cell_type": "code",
   "execution_count": 26,
   "metadata": {},
   "outputs": [],
   "source": [
    "# Using StandardScaler \n",
    "sc = StandardScaler()\n",
    "X_scaled = sc.fit_transform(X)"
   ]
  },
  {
   "cell_type": "code",
   "execution_count": 27,
   "metadata": {},
   "outputs": [],
   "source": [
    "X_scaled = pd.DataFrame(X_scaled)"
   ]
  },
  {
   "cell_type": "code",
   "execution_count": 28,
   "metadata": {},
   "outputs": [
    {
     "data": {
      "text/html": [
       "<div>\n",
       "<style scoped>\n",
       "    .dataframe tbody tr th:only-of-type {\n",
       "        vertical-align: middle;\n",
       "    }\n",
       "\n",
       "    .dataframe tbody tr th {\n",
       "        vertical-align: top;\n",
       "    }\n",
       "\n",
       "    .dataframe thead th {\n",
       "        text-align: right;\n",
       "    }\n",
       "</style>\n",
       "<table border=\"1\" class=\"dataframe\">\n",
       "  <thead>\n",
       "    <tr style=\"text-align: right;\">\n",
       "      <th></th>\n",
       "      <th>0</th>\n",
       "      <th>1</th>\n",
       "      <th>2</th>\n",
       "      <th>3</th>\n",
       "      <th>4</th>\n",
       "      <th>5</th>\n",
       "      <th>6</th>\n",
       "      <th>7</th>\n",
       "      <th>8</th>\n",
       "      <th>9</th>\n",
       "      <th>...</th>\n",
       "      <th>908</th>\n",
       "      <th>909</th>\n",
       "      <th>910</th>\n",
       "      <th>911</th>\n",
       "      <th>912</th>\n",
       "      <th>913</th>\n",
       "      <th>914</th>\n",
       "      <th>915</th>\n",
       "      <th>916</th>\n",
       "      <th>917</th>\n",
       "    </tr>\n",
       "  </thead>\n",
       "  <tbody>\n",
       "    <tr>\n",
       "      <th>0</th>\n",
       "      <td>-0.355785</td>\n",
       "      <td>-0.08832</td>\n",
       "      <td>0.100808</td>\n",
       "      <td>-0.439744</td>\n",
       "      <td>2.757334</td>\n",
       "      <td>-0.388399</td>\n",
       "      <td>-0.417577</td>\n",
       "      <td>-0.425769</td>\n",
       "      <td>-0.425802</td>\n",
       "      <td>-0.004472</td>\n",
       "      <td>...</td>\n",
       "      <td>-0.004472</td>\n",
       "      <td>-0.088435</td>\n",
       "      <td>1.056055</td>\n",
       "      <td>-0.246182</td>\n",
       "      <td>0.231165</td>\n",
       "      <td>-0.381764</td>\n",
       "      <td>0.703747</td>\n",
       "      <td>-0.649919</td>\n",
       "      <td>-0.863497</td>\n",
       "      <td>-1.174175</td>\n",
       "    </tr>\n",
       "    <tr>\n",
       "      <th>1</th>\n",
       "      <td>-0.355785</td>\n",
       "      <td>-0.08832</td>\n",
       "      <td>0.100808</td>\n",
       "      <td>-0.439744</td>\n",
       "      <td>2.757334</td>\n",
       "      <td>-0.388399</td>\n",
       "      <td>-0.417577</td>\n",
       "      <td>-0.425769</td>\n",
       "      <td>-0.425802</td>\n",
       "      <td>-0.004472</td>\n",
       "      <td>...</td>\n",
       "      <td>-0.004472</td>\n",
       "      <td>-0.088435</td>\n",
       "      <td>-0.630179</td>\n",
       "      <td>0.767907</td>\n",
       "      <td>0.305232</td>\n",
       "      <td>-1.120780</td>\n",
       "      <td>-1.420965</td>\n",
       "      <td>-0.649919</td>\n",
       "      <td>-0.863497</td>\n",
       "      <td>-1.174175</td>\n",
       "    </tr>\n",
       "    <tr>\n",
       "      <th>2</th>\n",
       "      <td>-0.355785</td>\n",
       "      <td>-0.08832</td>\n",
       "      <td>0.100808</td>\n",
       "      <td>-0.439744</td>\n",
       "      <td>-0.362669</td>\n",
       "      <td>-0.388399</td>\n",
       "      <td>-0.417577</td>\n",
       "      <td>-0.425769</td>\n",
       "      <td>2.348512</td>\n",
       "      <td>-0.004472</td>\n",
       "      <td>...</td>\n",
       "      <td>-0.004472</td>\n",
       "      <td>-0.088435</td>\n",
       "      <td>1.056055</td>\n",
       "      <td>2.945705</td>\n",
       "      <td>0.453365</td>\n",
       "      <td>1.465775</td>\n",
       "      <td>0.703747</td>\n",
       "      <td>1.538654</td>\n",
       "      <td>-0.863497</td>\n",
       "      <td>-1.174175</td>\n",
       "    </tr>\n",
       "    <tr>\n",
       "      <th>3</th>\n",
       "      <td>-0.355785</td>\n",
       "      <td>-0.08832</td>\n",
       "      <td>0.100808</td>\n",
       "      <td>-0.439744</td>\n",
       "      <td>2.757334</td>\n",
       "      <td>-0.388399</td>\n",
       "      <td>-0.417577</td>\n",
       "      <td>-0.425769</td>\n",
       "      <td>-0.425802</td>\n",
       "      <td>-0.004472</td>\n",
       "      <td>...</td>\n",
       "      <td>-0.004472</td>\n",
       "      <td>-0.088435</td>\n",
       "      <td>-0.630179</td>\n",
       "      <td>0.501916</td>\n",
       "      <td>1.119966</td>\n",
       "      <td>-0.936026</td>\n",
       "      <td>-1.420965</td>\n",
       "      <td>-0.649919</td>\n",
       "      <td>1.158082</td>\n",
       "      <td>-1.174175</td>\n",
       "    </tr>\n",
       "    <tr>\n",
       "      <th>4</th>\n",
       "      <td>-0.355785</td>\n",
       "      <td>-0.08832</td>\n",
       "      <td>0.100808</td>\n",
       "      <td>-0.439744</td>\n",
       "      <td>-0.362669</td>\n",
       "      <td>-0.388399</td>\n",
       "      <td>-0.417577</td>\n",
       "      <td>-0.425769</td>\n",
       "      <td>2.348512</td>\n",
       "      <td>-0.004472</td>\n",
       "      <td>...</td>\n",
       "      <td>-0.004472</td>\n",
       "      <td>-0.088435</td>\n",
       "      <td>1.056055</td>\n",
       "      <td>0.036433</td>\n",
       "      <td>0.453365</td>\n",
       "      <td>1.096267</td>\n",
       "      <td>0.703747</td>\n",
       "      <td>-0.649919</td>\n",
       "      <td>1.158082</td>\n",
       "      <td>-1.174175</td>\n",
       "    </tr>\n",
       "    <tr>\n",
       "      <th>...</th>\n",
       "      <td>...</td>\n",
       "      <td>...</td>\n",
       "      <td>...</td>\n",
       "      <td>...</td>\n",
       "      <td>...</td>\n",
       "      <td>...</td>\n",
       "      <td>...</td>\n",
       "      <td>...</td>\n",
       "      <td>...</td>\n",
       "      <td>...</td>\n",
       "      <td>...</td>\n",
       "      <td>...</td>\n",
       "      <td>...</td>\n",
       "      <td>...</td>\n",
       "      <td>...</td>\n",
       "      <td>...</td>\n",
       "      <td>...</td>\n",
       "      <td>...</td>\n",
       "      <td>...</td>\n",
       "      <td>...</td>\n",
       "      <td>...</td>\n",
       "    </tr>\n",
       "    <tr>\n",
       "      <th>49995</th>\n",
       "      <td>-0.355785</td>\n",
       "      <td>-0.08832</td>\n",
       "      <td>0.100808</td>\n",
       "      <td>-0.439744</td>\n",
       "      <td>2.757334</td>\n",
       "      <td>-0.388399</td>\n",
       "      <td>-0.417577</td>\n",
       "      <td>-0.425769</td>\n",
       "      <td>-0.425802</td>\n",
       "      <td>-0.004472</td>\n",
       "      <td>...</td>\n",
       "      <td>-0.004472</td>\n",
       "      <td>-0.088435</td>\n",
       "      <td>1.056055</td>\n",
       "      <td>-0.645168</td>\n",
       "      <td>-0.731702</td>\n",
       "      <td>-0.012257</td>\n",
       "      <td>0.703747</td>\n",
       "      <td>-0.649919</td>\n",
       "      <td>1.158082</td>\n",
       "      <td>-1.107368</td>\n",
       "    </tr>\n",
       "    <tr>\n",
       "      <th>49996</th>\n",
       "      <td>-0.355785</td>\n",
       "      <td>-0.08832</td>\n",
       "      <td>0.100808</td>\n",
       "      <td>-0.439744</td>\n",
       "      <td>-0.362669</td>\n",
       "      <td>2.574671</td>\n",
       "      <td>-0.417577</td>\n",
       "      <td>-0.425769</td>\n",
       "      <td>-0.425802</td>\n",
       "      <td>-0.004472</td>\n",
       "      <td>...</td>\n",
       "      <td>-0.004472</td>\n",
       "      <td>-0.088435</td>\n",
       "      <td>-0.630179</td>\n",
       "      <td>0.751282</td>\n",
       "      <td>-0.731702</td>\n",
       "      <td>-0.936026</td>\n",
       "      <td>-1.420965</td>\n",
       "      <td>-0.649919</td>\n",
       "      <td>-0.863497</td>\n",
       "      <td>-1.107368</td>\n",
       "    </tr>\n",
       "    <tr>\n",
       "      <th>49997</th>\n",
       "      <td>-0.355785</td>\n",
       "      <td>-0.08832</td>\n",
       "      <td>0.100808</td>\n",
       "      <td>-0.439744</td>\n",
       "      <td>2.757334</td>\n",
       "      <td>-0.388399</td>\n",
       "      <td>-0.417577</td>\n",
       "      <td>-0.425769</td>\n",
       "      <td>-0.425802</td>\n",
       "      <td>-0.004472</td>\n",
       "      <td>...</td>\n",
       "      <td>-0.004472</td>\n",
       "      <td>-0.088435</td>\n",
       "      <td>-0.630179</td>\n",
       "      <td>-0.695041</td>\n",
       "      <td>-0.731702</td>\n",
       "      <td>2.389544</td>\n",
       "      <td>-1.420965</td>\n",
       "      <td>-0.649919</td>\n",
       "      <td>1.158082</td>\n",
       "      <td>-1.107368</td>\n",
       "    </tr>\n",
       "    <tr>\n",
       "      <th>49998</th>\n",
       "      <td>-0.355785</td>\n",
       "      <td>-0.08832</td>\n",
       "      <td>0.100808</td>\n",
       "      <td>2.274053</td>\n",
       "      <td>-0.362669</td>\n",
       "      <td>-0.388399</td>\n",
       "      <td>-0.417577</td>\n",
       "      <td>-0.425769</td>\n",
       "      <td>-0.425802</td>\n",
       "      <td>-0.004472</td>\n",
       "      <td>...</td>\n",
       "      <td>-0.004472</td>\n",
       "      <td>-0.088435</td>\n",
       "      <td>-0.630179</td>\n",
       "      <td>-0.844661</td>\n",
       "      <td>-0.731702</td>\n",
       "      <td>0.357251</td>\n",
       "      <td>0.703747</td>\n",
       "      <td>-0.649919</td>\n",
       "      <td>1.158082</td>\n",
       "      <td>-1.107368</td>\n",
       "    </tr>\n",
       "    <tr>\n",
       "      <th>49999</th>\n",
       "      <td>-0.355785</td>\n",
       "      <td>-0.08832</td>\n",
       "      <td>0.100808</td>\n",
       "      <td>-0.439744</td>\n",
       "      <td>-0.362669</td>\n",
       "      <td>-0.388399</td>\n",
       "      <td>2.394768</td>\n",
       "      <td>-0.425769</td>\n",
       "      <td>-0.425802</td>\n",
       "      <td>-0.004472</td>\n",
       "      <td>...</td>\n",
       "      <td>-0.004472</td>\n",
       "      <td>-0.088435</td>\n",
       "      <td>-0.630179</td>\n",
       "      <td>-0.778163</td>\n",
       "      <td>-0.731702</td>\n",
       "      <td>0.172497</td>\n",
       "      <td>-1.420965</td>\n",
       "      <td>1.538654</td>\n",
       "      <td>-0.863497</td>\n",
       "      <td>-1.107368</td>\n",
       "    </tr>\n",
       "  </tbody>\n",
       "</table>\n",
       "<p>50000 rows × 918 columns</p>\n",
       "</div>"
      ],
      "text/plain": [
       "            0        1         2         3         4         5         6    \\\n",
       "0     -0.355785 -0.08832  0.100808 -0.439744  2.757334 -0.388399 -0.417577   \n",
       "1     -0.355785 -0.08832  0.100808 -0.439744  2.757334 -0.388399 -0.417577   \n",
       "2     -0.355785 -0.08832  0.100808 -0.439744 -0.362669 -0.388399 -0.417577   \n",
       "3     -0.355785 -0.08832  0.100808 -0.439744  2.757334 -0.388399 -0.417577   \n",
       "4     -0.355785 -0.08832  0.100808 -0.439744 -0.362669 -0.388399 -0.417577   \n",
       "...         ...      ...       ...       ...       ...       ...       ...   \n",
       "49995 -0.355785 -0.08832  0.100808 -0.439744  2.757334 -0.388399 -0.417577   \n",
       "49996 -0.355785 -0.08832  0.100808 -0.439744 -0.362669  2.574671 -0.417577   \n",
       "49997 -0.355785 -0.08832  0.100808 -0.439744  2.757334 -0.388399 -0.417577   \n",
       "49998 -0.355785 -0.08832  0.100808  2.274053 -0.362669 -0.388399 -0.417577   \n",
       "49999 -0.355785 -0.08832  0.100808 -0.439744 -0.362669 -0.388399  2.394768   \n",
       "\n",
       "            7         8         9    ...       908       909       910  \\\n",
       "0     -0.425769 -0.425802 -0.004472  ... -0.004472 -0.088435  1.056055   \n",
       "1     -0.425769 -0.425802 -0.004472  ... -0.004472 -0.088435 -0.630179   \n",
       "2     -0.425769  2.348512 -0.004472  ... -0.004472 -0.088435  1.056055   \n",
       "3     -0.425769 -0.425802 -0.004472  ... -0.004472 -0.088435 -0.630179   \n",
       "4     -0.425769  2.348512 -0.004472  ... -0.004472 -0.088435  1.056055   \n",
       "...         ...       ...       ...  ...       ...       ...       ...   \n",
       "49995 -0.425769 -0.425802 -0.004472  ... -0.004472 -0.088435  1.056055   \n",
       "49996 -0.425769 -0.425802 -0.004472  ... -0.004472 -0.088435 -0.630179   \n",
       "49997 -0.425769 -0.425802 -0.004472  ... -0.004472 -0.088435 -0.630179   \n",
       "49998 -0.425769 -0.425802 -0.004472  ... -0.004472 -0.088435 -0.630179   \n",
       "49999 -0.425769 -0.425802 -0.004472  ... -0.004472 -0.088435 -0.630179   \n",
       "\n",
       "            911       912       913       914       915       916       917  \n",
       "0     -0.246182  0.231165 -0.381764  0.703747 -0.649919 -0.863497 -1.174175  \n",
       "1      0.767907  0.305232 -1.120780 -1.420965 -0.649919 -0.863497 -1.174175  \n",
       "2      2.945705  0.453365  1.465775  0.703747  1.538654 -0.863497 -1.174175  \n",
       "3      0.501916  1.119966 -0.936026 -1.420965 -0.649919  1.158082 -1.174175  \n",
       "4      0.036433  0.453365  1.096267  0.703747 -0.649919  1.158082 -1.174175  \n",
       "...         ...       ...       ...       ...       ...       ...       ...  \n",
       "49995 -0.645168 -0.731702 -0.012257  0.703747 -0.649919  1.158082 -1.107368  \n",
       "49996  0.751282 -0.731702 -0.936026 -1.420965 -0.649919 -0.863497 -1.107368  \n",
       "49997 -0.695041 -0.731702  2.389544 -1.420965 -0.649919  1.158082 -1.107368  \n",
       "49998 -0.844661 -0.731702  0.357251  0.703747 -0.649919  1.158082 -1.107368  \n",
       "49999 -0.778163 -0.731702  0.172497 -1.420965  1.538654 -0.863497 -1.107368  \n",
       "\n",
       "[50000 rows x 918 columns]"
      ]
     },
     "execution_count": 28,
     "metadata": {},
     "output_type": "execute_result"
    }
   ],
   "source": [
    "X_scaled"
   ]
  },
  {
   "cell_type": "code",
   "execution_count": 29,
   "metadata": {},
   "outputs": [
    {
     "data": {
      "text/plain": [
       "0        0\n",
       "1        0\n",
       "2        0\n",
       "3        0\n",
       "4        0\n",
       "        ..\n",
       "49995    0\n",
       "49996    0\n",
       "49997    0\n",
       "49998    0\n",
       "49999    0\n",
       "Name: booking_complete, Length: 50000, dtype: int64"
      ]
     },
     "execution_count": 29,
     "metadata": {},
     "output_type": "execute_result"
    }
   ],
   "source": [
    "y"
   ]
  },
  {
   "cell_type": "markdown",
   "metadata": {},
   "source": [
    "## 2.5.Checking Data is imbalanced or not"
   ]
  },
  {
   "cell_type": "code",
   "execution_count": 30,
   "metadata": {},
   "outputs": [
    {
     "data": {
      "text/plain": [
       "0    42522\n",
       "1     7478\n",
       "Name: booking_complete, dtype: int64"
      ]
     },
     "execution_count": 30,
     "metadata": {},
     "output_type": "execute_result"
    }
   ],
   "source": [
    "y.value_counts()"
   ]
  },
  {
   "cell_type": "markdown",
   "metadata": {},
   "source": [
    "### Our dataset is imbalanced. \n",
    "#### Class Imbalance is a quite common problem and if not handled can have a impact on the model performance. \n",
    "#### To create a balanced datase we will use SMOTE"
   ]
  },
  {
   "cell_type": "code",
   "execution_count": 31,
   "metadata": {},
   "outputs": [
    {
     "name": "stdout",
     "output_type": "stream",
     "text": [
      "(50000, 918)\n",
      "(50000,)\n"
     ]
    }
   ],
   "source": [
    "print(X.shape)\n",
    "print(y.shape)"
   ]
  },
  {
   "cell_type": "code",
   "execution_count": 32,
   "metadata": {},
   "outputs": [
    {
     "name": "stdout",
     "output_type": "stream",
     "text": [
      "(85044, 918)\n",
      "(85044,)\n"
     ]
    }
   ],
   "source": [
    "# using imblearn to removing imablance in our dataset\n",
    "smote = SMOTE()\n",
    "x_smote, y_smote = smote.fit_resample(X_scaled, y)\n",
    "print(x_smote.shape)\n",
    "print(y_smote.shape)"
   ]
  },
  {
   "cell_type": "code",
   "execution_count": 33,
   "metadata": {},
   "outputs": [
    {
     "data": {
      "text/html": [
       "<div>\n",
       "<style scoped>\n",
       "    .dataframe tbody tr th:only-of-type {\n",
       "        vertical-align: middle;\n",
       "    }\n",
       "\n",
       "    .dataframe tbody tr th {\n",
       "        vertical-align: top;\n",
       "    }\n",
       "\n",
       "    .dataframe thead th {\n",
       "        text-align: right;\n",
       "    }\n",
       "</style>\n",
       "<table border=\"1\" class=\"dataframe\">\n",
       "  <thead>\n",
       "    <tr style=\"text-align: right;\">\n",
       "      <th></th>\n",
       "      <th>0</th>\n",
       "      <th>1</th>\n",
       "      <th>2</th>\n",
       "      <th>3</th>\n",
       "      <th>4</th>\n",
       "      <th>5</th>\n",
       "      <th>6</th>\n",
       "      <th>7</th>\n",
       "      <th>8</th>\n",
       "      <th>9</th>\n",
       "      <th>...</th>\n",
       "      <th>908</th>\n",
       "      <th>909</th>\n",
       "      <th>910</th>\n",
       "      <th>911</th>\n",
       "      <th>912</th>\n",
       "      <th>913</th>\n",
       "      <th>914</th>\n",
       "      <th>915</th>\n",
       "      <th>916</th>\n",
       "      <th>917</th>\n",
       "    </tr>\n",
       "  </thead>\n",
       "  <tbody>\n",
       "    <tr>\n",
       "      <th>0</th>\n",
       "      <td>-0.355785</td>\n",
       "      <td>-0.08832</td>\n",
       "      <td>0.100808</td>\n",
       "      <td>-0.439744</td>\n",
       "      <td>2.757334</td>\n",
       "      <td>-0.388399</td>\n",
       "      <td>-0.417577</td>\n",
       "      <td>-0.425769</td>\n",
       "      <td>-0.425802</td>\n",
       "      <td>-0.004472</td>\n",
       "      <td>...</td>\n",
       "      <td>-0.004472</td>\n",
       "      <td>-0.088435</td>\n",
       "      <td>1.056055</td>\n",
       "      <td>-0.246182</td>\n",
       "      <td>0.231165</td>\n",
       "      <td>-0.381764</td>\n",
       "      <td>0.703747</td>\n",
       "      <td>-0.649919</td>\n",
       "      <td>-0.863497</td>\n",
       "      <td>-1.174175</td>\n",
       "    </tr>\n",
       "    <tr>\n",
       "      <th>1</th>\n",
       "      <td>-0.355785</td>\n",
       "      <td>-0.08832</td>\n",
       "      <td>0.100808</td>\n",
       "      <td>-0.439744</td>\n",
       "      <td>2.757334</td>\n",
       "      <td>-0.388399</td>\n",
       "      <td>-0.417577</td>\n",
       "      <td>-0.425769</td>\n",
       "      <td>-0.425802</td>\n",
       "      <td>-0.004472</td>\n",
       "      <td>...</td>\n",
       "      <td>-0.004472</td>\n",
       "      <td>-0.088435</td>\n",
       "      <td>-0.630179</td>\n",
       "      <td>0.767907</td>\n",
       "      <td>0.305232</td>\n",
       "      <td>-1.120780</td>\n",
       "      <td>-1.420965</td>\n",
       "      <td>-0.649919</td>\n",
       "      <td>-0.863497</td>\n",
       "      <td>-1.174175</td>\n",
       "    </tr>\n",
       "    <tr>\n",
       "      <th>2</th>\n",
       "      <td>-0.355785</td>\n",
       "      <td>-0.08832</td>\n",
       "      <td>0.100808</td>\n",
       "      <td>-0.439744</td>\n",
       "      <td>-0.362669</td>\n",
       "      <td>-0.388399</td>\n",
       "      <td>-0.417577</td>\n",
       "      <td>-0.425769</td>\n",
       "      <td>2.348512</td>\n",
       "      <td>-0.004472</td>\n",
       "      <td>...</td>\n",
       "      <td>-0.004472</td>\n",
       "      <td>-0.088435</td>\n",
       "      <td>1.056055</td>\n",
       "      <td>2.945705</td>\n",
       "      <td>0.453365</td>\n",
       "      <td>1.465775</td>\n",
       "      <td>0.703747</td>\n",
       "      <td>1.538654</td>\n",
       "      <td>-0.863497</td>\n",
       "      <td>-1.174175</td>\n",
       "    </tr>\n",
       "    <tr>\n",
       "      <th>3</th>\n",
       "      <td>-0.355785</td>\n",
       "      <td>-0.08832</td>\n",
       "      <td>0.100808</td>\n",
       "      <td>-0.439744</td>\n",
       "      <td>2.757334</td>\n",
       "      <td>-0.388399</td>\n",
       "      <td>-0.417577</td>\n",
       "      <td>-0.425769</td>\n",
       "      <td>-0.425802</td>\n",
       "      <td>-0.004472</td>\n",
       "      <td>...</td>\n",
       "      <td>-0.004472</td>\n",
       "      <td>-0.088435</td>\n",
       "      <td>-0.630179</td>\n",
       "      <td>0.501916</td>\n",
       "      <td>1.119966</td>\n",
       "      <td>-0.936026</td>\n",
       "      <td>-1.420965</td>\n",
       "      <td>-0.649919</td>\n",
       "      <td>1.158082</td>\n",
       "      <td>-1.174175</td>\n",
       "    </tr>\n",
       "    <tr>\n",
       "      <th>4</th>\n",
       "      <td>-0.355785</td>\n",
       "      <td>-0.08832</td>\n",
       "      <td>0.100808</td>\n",
       "      <td>-0.439744</td>\n",
       "      <td>-0.362669</td>\n",
       "      <td>-0.388399</td>\n",
       "      <td>-0.417577</td>\n",
       "      <td>-0.425769</td>\n",
       "      <td>2.348512</td>\n",
       "      <td>-0.004472</td>\n",
       "      <td>...</td>\n",
       "      <td>-0.004472</td>\n",
       "      <td>-0.088435</td>\n",
       "      <td>1.056055</td>\n",
       "      <td>0.036433</td>\n",
       "      <td>0.453365</td>\n",
       "      <td>1.096267</td>\n",
       "      <td>0.703747</td>\n",
       "      <td>-0.649919</td>\n",
       "      <td>1.158082</td>\n",
       "      <td>-1.174175</td>\n",
       "    </tr>\n",
       "  </tbody>\n",
       "</table>\n",
       "<p>5 rows × 918 columns</p>\n",
       "</div>"
      ],
      "text/plain": [
       "        0        1         2         3         4         5         6    \\\n",
       "0 -0.355785 -0.08832  0.100808 -0.439744  2.757334 -0.388399 -0.417577   \n",
       "1 -0.355785 -0.08832  0.100808 -0.439744  2.757334 -0.388399 -0.417577   \n",
       "2 -0.355785 -0.08832  0.100808 -0.439744 -0.362669 -0.388399 -0.417577   \n",
       "3 -0.355785 -0.08832  0.100808 -0.439744  2.757334 -0.388399 -0.417577   \n",
       "4 -0.355785 -0.08832  0.100808 -0.439744 -0.362669 -0.388399 -0.417577   \n",
       "\n",
       "        7         8         9    ...       908       909       910       911  \\\n",
       "0 -0.425769 -0.425802 -0.004472  ... -0.004472 -0.088435  1.056055 -0.246182   \n",
       "1 -0.425769 -0.425802 -0.004472  ... -0.004472 -0.088435 -0.630179  0.767907   \n",
       "2 -0.425769  2.348512 -0.004472  ... -0.004472 -0.088435  1.056055  2.945705   \n",
       "3 -0.425769 -0.425802 -0.004472  ... -0.004472 -0.088435 -0.630179  0.501916   \n",
       "4 -0.425769  2.348512 -0.004472  ... -0.004472 -0.088435  1.056055  0.036433   \n",
       "\n",
       "        912       913       914       915       916       917  \n",
       "0  0.231165 -0.381764  0.703747 -0.649919 -0.863497 -1.174175  \n",
       "1  0.305232 -1.120780 -1.420965 -0.649919 -0.863497 -1.174175  \n",
       "2  0.453365  1.465775  0.703747  1.538654 -0.863497 -1.174175  \n",
       "3  1.119966 -0.936026 -1.420965 -0.649919  1.158082 -1.174175  \n",
       "4  0.453365  1.096267  0.703747 -0.649919  1.158082 -1.174175  \n",
       "\n",
       "[5 rows x 918 columns]"
      ]
     },
     "execution_count": 33,
     "metadata": {},
     "output_type": "execute_result"
    }
   ],
   "source": [
    "x_smote.head()"
   ]
  },
  {
   "cell_type": "code",
   "execution_count": 34,
   "metadata": {},
   "outputs": [
    {
     "data": {
      "text/plain": [
       "0    0\n",
       "1    0\n",
       "2    0\n",
       "3    0\n",
       "4    0\n",
       "Name: booking_complete, dtype: int64"
      ]
     },
     "execution_count": 34,
     "metadata": {},
     "output_type": "execute_result"
    }
   ],
   "source": [
    "y_smote.head()"
   ]
  },
  {
   "cell_type": "markdown",
   "metadata": {},
   "source": [
    "### This is all about preprocessing steps for the dataset"
   ]
  },
  {
   "cell_type": "markdown",
   "metadata": {},
   "source": [
    "# 3.EDA"
   ]
  },
  {
   "cell_type": "code",
   "execution_count": 36,
   "metadata": {},
   "outputs": [
    {
     "data": {
      "image/png": "[encoded data removed]",
      "text/plain": [
       "<Figure size 720x576 with 2 Axes>"
      ]
     },
     "metadata": {},
     "output_type": "display_data"
    }
   ],
   "source": [
    "# Set font size and style\n",
    "sns.set(font_scale=1.2, style=\"whitegrid\")\n",
    "\n",
    "# Create heatmap with correlation matrix\n",
    "plt.figure(figsize=(10, 8))\n",
    "heatmap = sns.heatmap(data_numerical.corr(),\n",
    "                      cmap=\"coolwarm\",\n",
    "                      annot=True,\n",
    "                      annot_kws={\"size\": 12},\n",
    "                      vmin=-1, vmax=1)\n",
    "\n",
    "# Set heatmap title and axis labels\n",
    "heatmap.set_title(\"Correlation Matrix Heatmap\", fontdict={\"fontsize\": 18})\n",
    "heatmap.set_xlabel(\"Features\", fontdict={\"fontsize\": 14})\n",
    "heatmap.set_ylabel(\"Features\", fontdict={\"fontsize\": 14})\n",
    "\n",
    "plt.show()"
   ]
  },
  {
   "cell_type": "code",
   "execution_count": 40,
   "metadata": {},
   "outputs": [
    {
     "data": {
      "image/png": "[encoded data removed]",
      "text/plain": [
       "<Figure size 1080x432 with 1 Axes>"
      ]
     },
     "metadata": {},
     "output_type": "display_data"
    }
   ],
   "source": [
    "import seaborn as sns\n",
    "\n",
    "# Hitung jumlah penerbangan pada setiap hari\n",
    "flight_day_counts = data[\"flight_day\"].value_counts()\n",
    "\n",
    "# Tentukan warna untuk setiap bar\n",
    "colors = [\"silver\" if count != flight_day_counts.max() else \"red\" for count in flight_day_counts]\n",
    "\n",
    "# Plot bar dengan warna yang ditentukan\n",
    "plt.figure(figsize=(15,6))\n",
    "sns.countplot(x=\"flight_day\", data=data, order=flight_day_counts.index, palette=colors)\n",
    "plt.show()"
   ]
  },
  {
   "cell_type": "code",
   "execution_count": null,
   "metadata": {},
   "outputs": [],
   "source": []
  },
  {
   "cell_type": "code",
   "execution_count": 42,
   "metadata": {},
   "outputs": [
    {
     "data": {
      "image/png": "[encoded data removed]",
      "text/plain": [
       "<Figure size 1080x432 with 1 Axes>"
      ]
     },
     "metadata": {},
     "output_type": "display_data"
    }
   ],
   "source": [
    "# Setting color palette\n",
    "colors = ['#DB3A34', '#22B573']\n",
    "\n",
    "# No. of flights on each day of the week\n",
    "plt.figure(figsize=(15,6))\n",
    "sns.countplot(x=\"flight_day\", hue=\"booking_complete\", data=data, order=data[\"flight_day\"].value_counts().index, palette=colors)\n",
    "\n",
    "# Setting title and axis labels\n",
    "plt.title(\"No. of Flights by Day of the Week\", fontsize=16)\n",
    "plt.xlabel(\"Day of the Week\", fontsize=14)\n",
    "plt.ylabel(\"No. of Flights\", fontsize=14)\n",
    "\n",
    "# Setting legend\n",
    "plt.legend(title=\"Booking Complete\", fontsize=12, title_fontsize=12)\n",
    "\n",
    "# Removing spines\n",
    "sns.despine()\n",
    "\n",
    "# Adding gridlines\n",
    "plt.grid(True, axis='y', alpha=0.4)\n",
    "\n",
    "# Show plot\n",
    "plt.show()\n"
   ]
  },
  {
   "cell_type": "markdown",
   "metadata": {},
   "source": [
    "### No of flights is max on monday and lowest on Saturday"
   ]
  },
  {
   "cell_type": "code",
   "execution_count": 49,
   "metadata": {},
   "outputs": [
    {
     "data": {
      "image/png": "[encoded data removed]",
      "text/plain": [
       "<Figure size 1080x432 with 1 Axes>"
      ]
     },
     "metadata": {},
     "output_type": "display_data"
    }
   ],
   "source": [
    "# Frequently used Booking channel\n",
    "plt.figure(figsize=(15,6))\n",
    "sns.countplot(x = \"sales_channel\", data=data, order=data[\"sales_channel\"].value_counts().index)\n",
    "plt.show()"
   ]
  },
  {
   "cell_type": "code",
   "execution_count": 50,
   "metadata": {},
   "outputs": [
    {
     "data": {
      "image/png": "[encoded data removed]",
      "text/plain": [
       "<Figure size 1080x576 with 1 Axes>"
      ]
     },
     "metadata": {},
     "output_type": "display_data"
    }
   ],
   "source": [
    "# Most frequently opted trip type\n",
    "plt.figure(figsize=(15,8))\n",
    "plots = sns.countplot(x=\"trip_type\",  data=data, palette=\"Set2\")\n",
    "plt.xlabel(\"Trip\",fontsize= 20)\n",
    "plt.ylabel(\"Count\", fontsize= 20)\n",
    "plt.title(\"Most frequently opted trip type\", fontsize=25)\n",
    "plt.xticks(fontsize=15)\n",
    "plt.yticks(fontsize=15)\n",
    "plt.grid(axis=\"y\", linestyle='--')\n",
    "\n",
    "for bar in plots.patches:\n",
    "    plots.annotate(format(bar.get_height()),(bar.get_x() + bar.get_width() / 2,bar.get_height()), \n",
    "                   ha='center', va='center',size=15, xytext=(0, 8),textcoords='offset points')   \n",
    "\n",
    "plt.show()\n"
   ]
  },
  {
   "cell_type": "markdown",
   "metadata": {},
   "source": [
    "# Most passengers prefer to book round trip"
   ]
  },
  {
   "cell_type": "code",
   "execution_count": 51,
   "metadata": {},
   "outputs": [
    {
     "data": {
      "text/plain": [
       "Australia      17872\n",
       "Malaysia        7174\n",
       "South Korea     4559\n",
       "Japan           3885\n",
       "China           3387\n",
       "               ...  \n",
       "Guatemala          1\n",
       "Bhutan             1\n",
       "Belarus            1\n",
       "Bulgaria           1\n",
       "Paraguay           1\n",
       "Name: booking_origin, Length: 104, dtype: int64"
      ]
     },
     "execution_count": 51,
     "metadata": {},
     "output_type": "execute_result"
    }
   ],
   "source": [
    "data[\"booking_origin\"].value_counts(ascending=False)"
   ]
  },
  {
   "cell_type": "code",
   "execution_count": 55,
   "metadata": {},
   "outputs": [
    {
     "data": {
      "image/png": "[encoded data removed]",
      "text/plain": [
       "<Figure size 1080x576 with 1 Axes>"
      ]
     },
     "metadata": {},
     "output_type": "display_data"
    }
   ],
   "source": [
    "# Top 10 Countries in flight bookings\n",
    "plt.figure(figsize=(15,8))\n",
    "plots = sns.countplot(x=\"booking_origin\",  data=data ,order=data.booking_origin.value_counts().iloc[:10].index)\n",
    "plt.xlabel(\"Countries\",fontsize= 20)\n",
    "plt.ylabel(\"Count\", fontsize= 20)\n",
    "\n",
    "max_val = max([bar.get_height() for bar in plots.containers[0]])\n",
    "\n",
    "for bar in plots.patches:\n",
    "    if bar.get_height() == max_val:\n",
    "        bar.set_color('red')\n",
    "    else:\n",
    "        bar.set_color('silver')\n",
    "\n",
    "for bar in plots.patches:\n",
    "    plots.annotate(format(bar.get_height()),(bar.get_x() + bar.get_width() / 2,bar.get_height()), \n",
    "                   ha='center', va='center',size=15, xytext=(0, 8),textcoords='offset points')\n"
   ]
  },
  {
   "cell_type": "markdown",
   "metadata": {},
   "source": [
    "### Top 10 Countries with flight bookings"
   ]
  },
  {
   "cell_type": "code",
   "execution_count": 39,
   "metadata": {},
   "outputs": [
    {
     "data": {
      "image/png": "[encoded data removed]",
      "text/plain": [
       "<Figure size 1080x576 with 1 Axes>"
      ]
     },
     "metadata": {
      "needs_background": "light"
     },
     "output_type": "display_data"
    }
   ],
   "source": [
    "# Bottom 10 Countries in flight bookings\n",
    "plt.figure(figsize=(15,8))\n",
    "plots = sns.countplot(x=\"booking_origin\",  data=data ,order=data.booking_origin.value_counts().iloc[-10:].index)\n",
    "plt.xlabel(\"Countries\",fontsize= 20)\n",
    "plt.ylabel(\"Count\", fontsize= 20)\n",
    "\n",
    "for bar in plots.patches:\n",
    "    plots.annotate(format(bar.get_height()),(bar.get_x() + bar.get_width() / 2,bar.get_height()), \n",
    "                   ha='center', va='center',size=15, xytext=(0, 8),textcoords='offset points')   "
   ]
  },
  {
   "cell_type": "markdown",
   "metadata": {},
   "source": [
    "### Bottom 10 Countries with flight bookings"
   ]
  },
  {
   "cell_type": "code",
   "execution_count": 56,
   "metadata": {},
   "outputs": [
    {
     "data": {
      "image/png": "[encoded data removed]",
      "text/plain": [
       "<Figure size 1080x576 with 1 Axes>"
      ]
     },
     "metadata": {},
     "output_type": "display_data"
    }
   ],
   "source": [
    "plt.figure(figsize=(15,8))\n",
    "palette = [\"red\"] + [\"silver\"]*(len(data.flight_duration.value_counts().index)-1)\n",
    "plots = sns.countplot(x=\"flight_duration\", hue=\"booking_complete\" , data=data ,order=data.flight_duration.value_counts().index, palette=palette)\n",
    "plt.xlabel(\"Flight Duration in HRS\",fontsize= 20)\n",
    "plt.ylabel(\"Count\", fontsize= 20)\n",
    "\n",
    "for bar in plots.patches:\n",
    "    plots.annotate(format(bar.get_height()),(bar.get_x() + bar.get_width() / 2,bar.get_height()), \n",
    "                   ha='center', va='center',size=8, xytext=(0, 8),textcoords='offset points')\n"
   ]
  },
  {
   "cell_type": "markdown",
   "metadata": {},
   "source": [
    "### Majority of the Passengers are not opting for British airways flights which has flights duration >=8."
   ]
  },
  {
   "cell_type": "code",
   "execution_count": 57,
   "metadata": {},
   "outputs": [
    {
     "data": {
      "image/png": "[encoded data removed]",
      "text/plain": [
       "<Figure size 1080x576 with 1 Axes>"
      ]
     },
     "metadata": {},
     "output_type": "display_data"
    }
   ],
   "source": [
    "plt.figure(figsize=(15,8))\n",
    "plots = sns.countplot(x=\"trip_type\", hue=\"booking_complete\", data=data, order=data.trip_type.value_counts().index)\n",
    "plt.xlabel(\"Trip Type\", fontsize=20)\n",
    "plt.ylabel(\"Count\", fontsize=20)\n",
    "\n",
    "# Mendapatkan nilai tertinggi dari masing-masing bar plot\n",
    "top_values = [p.get_height() for p in plots.patches]\n",
    "max_value = max(top_values)\n",
    "\n",
    "# Memberikan warna merah pada bar plot dengan nilai tertinggi dan silver pada yang lainnya\n",
    "for p in plots.patches:\n",
    "    if p.get_height() == max_value:\n",
    "        p.set_fc('red')\n",
    "    else:\n",
    "        p.set_fc('silver')\n",
    "        \n",
    "# Menampilkan anotasi pada bar plot\n",
    "for p in plots.patches:\n",
    "    plots.annotate(format(p.get_height()), (p.get_x() + p.get_width() / 2, p.get_height()),\n",
    "                   ha='center', va='center', size=8, xytext=(0, 8), textcoords='offset points')\n"
   ]
  },
  {
   "cell_type": "markdown",
   "metadata": {},
   "source": [
    "### Most of the enquires are from passengers who are looking for round trip."
   ]
  },
  {
   "cell_type": "code",
   "execution_count": 62,
   "metadata": {},
   "outputs": [
    {
     "data": {
      "image/png": "[encoded data removed]",
      "text/plain": [
       "<Figure size 1080x576 with 1 Axes>"
      ]
     },
     "metadata": {},
     "output_type": "display_data"
    }
   ],
   "source": [
    "# trip type and booking complete\n",
    "plt.figure(figsize=(15,8))\n",
    "plots = sns.countplot(x=\"wants_extra_baggage\", hue=\"booking_complete\", data=data, order=data.wants_extra_baggage.value_counts().index, palette={True: \"red\", False: \"silver\"})\n",
    "plt.xlabel(\"Wants Extra Baggage\",fontsize= 20)\n",
    "plt.ylabel(\"Count\", fontsize= 20)\n",
    "\n",
    "for bar in plots.patches:\n",
    "    plots.annotate(format(bar.get_height()),(bar.get_x() + bar.get_width() / 2,bar.get_height()), \n",
    "                   ha='center', va='center',size=8, xytext=(0, 8),textcoords='offset points')\n"
   ]
  },
  {
   "cell_type": "markdown",
   "metadata": {},
   "source": [
    "# 4.Splitting the dataset into train and test"
   ]
  },
  {
   "cell_type": "code",
   "execution_count": 59,
   "metadata": {},
   "outputs": [
    {
     "name": "stdout",
     "output_type": "stream",
     "text": [
      "(63783, 918)\n",
      "(21261, 918)\n",
      "(63783,)\n",
      "(21261,)\n"
     ]
    }
   ],
   "source": [
    "x_train, x_test, y_train, y_test = train_test_split(x_smote,y_smote, test_size=0.25,random_state=101)\n",
    "print(x_train.shape)\n",
    "print(x_test.shape)\n",
    "print(y_train.shape)\n",
    "print(y_test.shape)\n"
   ]
  },
  {
   "cell_type": "markdown",
   "metadata": {},
   "source": [
    "# 5.Building model"
   ]
  },
  {
   "cell_type": "code",
   "execution_count": 63,
   "metadata": {},
   "outputs": [
    {
     "data": {
      "text/html": [
       "<style>#sk-container-id-1 {color: black;background-color: white;}#sk-container-id-1 pre{padding: 0;}#sk-container-id-1 div.sk-toggleable {background-color: white;}#sk-container-id-1 label.sk-toggleable__label {cursor: pointer;display: block;width: 100%;margin-bottom: 0;padding: 0.3em;box-sizing: border-box;text-align: center;}#sk-container-id-1 label.sk-toggleable__label-arrow:before {content: \"▸\";float: left;margin-right: 0.25em;color: #696969;}#sk-container-id-1 label.sk-toggleable__label-arrow:hover:before {color: black;}#sk-container-id-1 div.sk-estimator:hover label.sk-toggleable__label-arrow:before {color: black;}#sk-container-id-1 div.sk-toggleable__content {max-height: 0;max-width: 0;overflow: hidden;text-align: left;background-color: #f0f8ff;}#sk-container-id-1 div.sk-toggleable__content pre {margin: 0.2em;color: black;border-radius: 0.25em;background-color: #f0f8ff;}#sk-container-id-1 input.sk-toggleable__control:checked~div.sk-toggleable__content {max-height: 200px;max-width: 100%;overflow: auto;}#sk-container-id-1 input.sk-toggleable__control:checked~label.sk-toggleable__label-arrow:before {content: \"▾\";}#sk-container-id-1 div.sk-estimator input.sk-toggleable__control:checked~label.sk-toggleable__label {background-color: #d4ebff;}#sk-container-id-1 div.sk-label input.sk-toggleable__control:checked~label.sk-toggleable__label {background-color: #d4ebff;}#sk-container-id-1 input.sk-hidden--visually {border: 0;clip: rect(1px 1px 1px 1px);clip: rect(1px, 1px, 1px, 1px);height: 1px;margin: -1px;overflow: hidden;padding: 0;position: absolute;width: 1px;}#sk-container-id-1 div.sk-estimator {font-family: monospace;background-color: #f0f8ff;border: 1px dotted black;border-radius: 0.25em;box-sizing: border-box;margin-bottom: 0.5em;}#sk-container-id-1 div.sk-estimator:hover {background-color: #d4ebff;}#sk-container-id-1 div.sk-parallel-item::after {content: \"\";width: 100%;border-bottom: 1px solid gray;flex-grow: 1;}#sk-container-id-1 div.sk-label:hover label.sk-toggleable__label {background-color: #d4ebff;}#sk-container-id-1 div.sk-serial::before {content: \"\";position: absolute;border-left: 1px solid gray;box-sizing: border-box;top: 0;bottom: 0;left: 50%;z-index: 0;}#sk-container-id-1 div.sk-serial {display: flex;flex-direction: column;align-items: center;background-color: white;padding-right: 0.2em;padding-left: 0.2em;position: relative;}#sk-container-id-1 div.sk-item {position: relative;z-index: 1;}#sk-container-id-1 div.sk-parallel {display: flex;align-items: stretch;justify-content: center;background-color: white;position: relative;}#sk-container-id-1 div.sk-item::before, #sk-container-id-1 div.sk-parallel-item::before {content: \"\";position: absolute;border-left: 1px solid gray;box-sizing: border-box;top: 0;bottom: 0;left: 50%;z-index: -1;}#sk-container-id-1 div.sk-parallel-item {display: flex;flex-direction: column;z-index: 1;position: relative;background-color: white;}#sk-container-id-1 div.sk-parallel-item:first-child::after {align-self: flex-end;width: 50%;}#sk-container-id-1 div.sk-parallel-item:last-child::after {align-self: flex-start;width: 50%;}#sk-container-id-1 div.sk-parallel-item:only-child::after {width: 0;}#sk-container-id-1 div.sk-dashed-wrapped {border: 1px dashed gray;margin: 0 0.4em 0.5em 0.4em;box-sizing: border-box;padding-bottom: 0.4em;background-color: white;}#sk-container-id-1 div.sk-label label {font-family: monospace;font-weight: bold;display: inline-block;line-height: 1.2em;}#sk-container-id-1 div.sk-label-container {text-align: center;}#sk-container-id-1 div.sk-container {/* jupyter's `normalize.less` sets `[hidden] { display: none; }` but bootstrap.min.css set `[hidden] { display: none !important; }` so we also need the `!important` here to be able to override the default hidden behavior on the sphinx rendered scikit-learn.org. See: https://github.com/scikit-learn/scikit-learn/issues/21755 */display: inline-block !important;position: relative;}#sk-container-id-1 div.sk-text-repr-fallback {display: none;}</style><div id=\"sk-container-id-1\" class=\"sk-top-container\"><div class=\"sk-text-repr-fallback\"><pre>RandomForestClassifier()</pre><b>In a Jupyter environment, please rerun this cell to show the HTML representation or trust the notebook. <br />On GitHub, the HTML representation is unable to render, please try loading this page with nbviewer.org.</b></div><div class=\"sk-container\" hidden><div class=\"sk-item\"><div class=\"sk-estimator sk-toggleable\"><input class=\"sk-toggleable__control sk-hidden--visually\" id=\"sk-estimator-id-1\" type=\"checkbox\" checked><label for=\"sk-estimator-id-1\" class=\"sk-toggleable__label sk-toggleable__label-arrow\">RandomForestClassifier</label><div class=\"sk-toggleable__content\"><pre>RandomForestClassifier()</pre></div></div></div></div></div>"
      ],
      "text/plain": [
       "RandomForestClassifier()"
      ]
     },
     "execution_count": 63,
     "metadata": {},
     "output_type": "execute_result"
    }
   ],
   "source": [
    "# using random forest classifier\n",
    "rforest = RandomForestClassifier()\n",
    "rforest.fit(x_train, y_train)"
   ]
  },
  {
   "cell_type": "markdown",
   "metadata": {},
   "source": [
    "# 6.Predicting the test data"
   ]
  },
  {
   "cell_type": "code",
   "execution_count": 64,
   "metadata": {},
   "outputs": [],
   "source": [
    "y_pred_rf_train = rforest.predict(x_train)\n",
    "y_pred_rf_test = rforest.predict(x_test)"
   ]
  },
  {
   "cell_type": "markdown",
   "metadata": {},
   "source": [
    "# 7.Performance metrics"
   ]
  },
  {
   "cell_type": "code",
   "execution_count": 66,
   "metadata": {},
   "outputs": [
    {
     "data": {
      "image/png": "[encoded data removed]",
      "text/plain": [
       "<Figure size 576x432 with 2 Axes>"
      ]
     },
     "metadata": {},
     "output_type": "display_data"
    },
    {
     "data": {
      "image/png": "[encoded data removed]",
      "text/plain": [
       "<Figure size 576x432 with 2 Axes>"
      ]
     },
     "metadata": {},
     "output_type": "display_data"
    }
   ],
   "source": [
    "import matplotlib.pyplot as plt\n",
    "from sklearn.metrics import confusion_matrix\n",
    "\n",
    "# hitung confusion matrix\n",
    "cm_train = confusion_matrix(y_train, y_pred_rf_train)\n",
    "cm_test = confusion_matrix(y_test, y_pred_rf_test)\n",
    "\n",
    "# plot confusion matrix train\n",
    "plt.figure(figsize=(8, 6))\n",
    "plt.imshow(cm_train, interpolation='nearest', cmap=plt.cm.Blues)\n",
    "plt.colorbar()\n",
    "plt.title('Confusion Matrix (Train Set)', fontsize=16)\n",
    "plt.xlabel('Predicted Label', fontsize=14)\n",
    "plt.ylabel('True Label', fontsize=14)\n",
    "plt.xticks([0, 1], ['not completed', 'completed'])\n",
    "plt.yticks([0, 1], ['not completed', 'completed'])\n",
    "plt.show()\n",
    "\n",
    "# plot confusion matrix test\n",
    "plt.figure(figsize=(8, 6))\n",
    "plt.imshow(cm_test, interpolation='nearest', cmap=plt.cm.Blues)\n",
    "plt.colorbar()\n",
    "plt.title('Confusion Matrix (Test Set)', fontsize=16)\n",
    "plt.xlabel('Predicted Label', fontsize=14)\n",
    "plt.ylabel('True Label', fontsize=14)\n",
    "plt.xticks([0, 1], ['not completed', 'completed'])\n",
    "plt.yticks([0, 1], ['not completed', 'completed'])\n",
    "plt.show()\n"
   ]
  },
  {
   "cell_type": "code",
   "execution_count": 82,
   "metadata": {},
   "outputs": [
    {
     "name": "stdout",
     "output_type": "stream",
     "text": [
      "              precision    recall  f1-score   support\n",
      "\n",
      "           0       1.00      1.00      1.00     31892\n",
      "           1       1.00      1.00      1.00     31891\n",
      "\n",
      "    accuracy                           1.00     63783\n",
      "   macro avg       1.00      1.00      1.00     63783\n",
      "weighted avg       1.00      1.00      1.00     63783\n",
      "\n",
      "########################################################################################################################\n",
      "              precision    recall  f1-score   support\n",
      "\n",
      "           0       0.90      0.94      0.92     10630\n",
      "           1       0.94      0.90      0.92     10631\n",
      "\n",
      "    accuracy                           0.92     21261\n",
      "   macro avg       0.92      0.92      0.92     21261\n",
      "weighted avg       0.92      0.92      0.92     21261\n",
      "\n"
     ]
    }
   ],
   "source": [
    "print(classification_report(y_train, y_pred_rf_train))\n",
    "print(\"####\"*30)\n",
    "print(classification_report(y_test, y_pred_rf_test))"
   ]
  },
  {
   "cell_type": "code",
   "execution_count": 84,
   "metadata": {},
   "outputs": [
    {
     "name": "stdout",
     "output_type": "stream",
     "text": [
      "Train Accuracy: 99.99%\n",
      "Test Accuracy: 92.07%\n"
     ]
    }
   ],
   "source": [
    "from sklearn.metrics import accuracy_score\n",
    "\n",
    "# Calculate accuracy scores\n",
    "train_accuracy = accuracy_score(y_train, y_pred_rf_train)\n",
    "test_accuracy = accuracy_score(y_test, y_pred_rf_test)\n",
    "\n",
    "# Display results\n",
    "print(\"Train Accuracy: {:.2f}%\".format(train_accuracy*100))\n",
    "print(\"Test Accuracy: {:.2f}%\".format(test_accuracy*100))\n"
   ]
  },
  {
   "cell_type": "code",
   "execution_count": 85,
   "metadata": {},
   "outputs": [
    {
     "data": {
      "image/png": "[encoded data removed]",
      "text/plain": [
       "<Figure size 576x432 with 1 Axes>"
      ]
     },
     "metadata": {},
     "output_type": "display_data"
    }
   ],
   "source": [
    "import matplotlib.pyplot as plt\n",
    "\n",
    "# Calculate accuracy scores\n",
    "train_accuracy = accuracy_score(y_train, y_pred_rf_train)\n",
    "test_accuracy = accuracy_score(y_test, y_pred_rf_test)\n",
    "\n",
    "# Plot bar chart\n",
    "fig, ax = plt.subplots(figsize=(8,6))\n",
    "ax.bar([\"Train\", \"Test\"], [train_accuracy, test_accuracy], color=[\"blue\", \"green\"])\n",
    "ax.set_ylim([0,1])\n",
    "ax.set_ylabel(\"Accuracy\")\n",
    "ax.set_title(\"Model Accuracy\")\n",
    "\n",
    "# Annotate bars with values\n",
    "for i, v in enumerate([train_accuracy, test_accuracy]):\n",
    "    ax.text(i, v+0.05, \"{:.2f}%\".format(v*100), ha='center', fontsize=12)\n",
    "\n",
    "plt.show()\n"
   ]
  },
  {
   "cell_type": "markdown",
   "metadata": {},
   "source": [
    "# 8.Cross Validation"
   ]
  },
  {
   "cell_type": "code",
   "execution_count": 86,
   "metadata": {},
   "outputs": [],
   "source": [
    "# Using K-FOLD method by using cross_val_score\n",
    "accuracy = cross_val_score(rforest, x_train, y_train, cv=10)"
   ]
  },
  {
   "cell_type": "code",
   "execution_count": 87,
   "metadata": {},
   "outputs": [
    {
     "name": "stdout",
     "output_type": "stream",
     "text": [
      "Accuracy: 91.80% (+/- 0.25%)\n"
     ]
    }
   ],
   "source": [
    "print(\"Accuracy: {:.2f}% (+/- {:.2f}%)\".format(accuracy.mean()*100, accuracy.std()*100))"
   ]
  },
  {
   "cell_type": "code",
   "execution_count": 88,
   "metadata": {},
   "outputs": [
    {
     "name": "stdout",
     "output_type": "stream",
     "text": [
      "Accuracy: 91.80% (+/- 0.31%)\n"
     ]
    }
   ],
   "source": [
    "from sklearn.model_selection import cross_val_score\n",
    "from sklearn.ensemble import RandomForestClassifier\n",
    "\n",
    "# Create random forest model\n",
    "rforest = RandomForestClassifier()\n",
    "\n",
    "# Compute cross-validation accuracy scores\n",
    "accuracy = cross_val_score(rforest, x_train, y_train, cv=10)\n",
    "\n",
    "# Print mean and standard deviation of accuracy scores\n",
    "print(\"Accuracy: {:.2f}% (+/- {:.2f}%)\".format(accuracy.mean()*100, accuracy.std()*100))\n"
   ]
  },
  {
   "cell_type": "code",
   "execution_count": null,
   "metadata": {},
   "outputs": [],
   "source": []
  },
  {
   "cell_type": "code",
   "execution_count": null,
   "metadata": {},
   "outputs": [],
   "source": []
  }
 ],
 "metadata": {
  "kernelspec": {
   "display_name": "Python 3",
   "language": "python",
   "name": "python3"
  },
  "language_info": {
   "codemirror_mode": {
    "name": "ipython",
    "version": 3
   },
   "file_extension": ".py",
   "mimetype": "text/x-python",
   "name": "python",
   "nbconvert_exporter": "python",
   "pygments_lexer": "ipython3",
   "version": "3.8.8"
  },
  "vscode": {
   "interpreter": {
    "hash": "4f7924c4c56b083e0e50eadfe7ef592a7a8ef70df33a0047f82280e6be1afe15"
   }
  }
 },
 "nbformat": 4,
 "nbformat_minor": 2
}
